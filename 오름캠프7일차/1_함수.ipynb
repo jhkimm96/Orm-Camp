{
  "nbformat": 4,
  "nbformat_minor": 0,
  "metadata": {
    "colab": {
      "provenance": []
    },
    "kernelspec": {
      "name": "python3",
      "display_name": "Python 3"
    },
    "language_info": {
      "name": "python"
    }
  },
  "cells": [
    {
      "cell_type": "markdown",
      "source": [
        "# 1. 함수"
      ],
      "metadata": {
        "id": "O1lfhmP9qgBy"
      }
    },
    {
      "cell_type": "code",
      "source": [
        "# 1. 함수 만들어 보기\n",
        "\n",
        " def jhfunction() : # 함수가 활성화될 준비 완료! def => 이건 함수야 jhfunction 함수의 이름 + () -> \":\"\n"
      ],
      "metadata": {
        "id": "dBT2pp5grRoV"
      },
      "execution_count": 6,
      "outputs": []
    },
    {
      "cell_type": "code",
      "source": [
        "# 2. 들여쓰기\n",
        "\n",
        "def my_function() :\n",
        "    print('1') # 4칸을 띄우는 것 - > 함수의 본문을 적는 것\n",
        "    print('2')\n",
        "    print('3')\n",
        "\n",
        "# 함수의 실행\n",
        "\n",
        "my_function() # 실행을 할때는 def와 : 은 필요없다."
      ],
      "metadata": {
        "colab": {
          "base_uri": "https://localhost:8080/"
        },
        "id": "LdLC930RtpX6",
        "outputId": "95cb1bc2-ae71-4786-ade7-59a184581e62"
      },
      "execution_count": 5,
      "outputs": [
        {
          "output_type": "stream",
          "name": "stdout",
          "text": [
            "1\n",
            "2\n",
            "3\n"
          ]
        }
      ]
    },
    {
      "cell_type": "code",
      "source": [
        "# 2. 들여쓰기\n",
        "\n",
        "def my_function() :\n",
        "    print('1') # 4칸을 띄우는 것 - > 함수의 본문을 적는 것\n",
        "    print('2')\n",
        "print('3') # 함수의 바깥에서 실행된다.\n",
        "\n",
        "my_function()"
      ],
      "metadata": {
        "colab": {
          "base_uri": "https://localhost:8080/"
        },
        "id": "Pvu5jr2Qt23f",
        "outputId": "28d4da4d-6a23-4dab-a42c-29004e399db8"
      },
      "execution_count": 7,
      "outputs": [
        {
          "output_type": "stream",
          "name": "stdout",
          "text": [
            "3\n",
            "1\n",
            "2\n"
          ]
        }
      ]
    },
    {
      "cell_type": "code",
      "source": [
        "def my_function() :\n",
        "    print('1') # 4칸을 띄우는 것 - > 함수의 본문을 적는 것\n",
        "      print('2')\n",
        "print('3')\n",
        "\n",
        "my_function()"
      ],
      "metadata": {
        "colab": {
          "base_uri": "https://localhost:8080/",
          "height": 147
        },
        "id": "fraJ9u8RuPIl",
        "outputId": "494b0387-0942-44de-c472-2d46109e074b"
      },
      "execution_count": 8,
      "outputs": [
        {
          "output_type": "error",
          "ename": "IndentationError",
          "evalue": "unexpected indent (<ipython-input-8-2a70f28c4d59>, line 3)",
          "traceback": [
            "\u001b[0;36m  File \u001b[0;32m\"<ipython-input-8-2a70f28c4d59>\"\u001b[0;36m, line \u001b[0;32m3\u001b[0m\n\u001b[0;31m    print('2')\u001b[0m\n\u001b[0m    ^\u001b[0m\n\u001b[0;31mIndentationError\u001b[0m\u001b[0;31m:\u001b[0m unexpected indent\n"
          ]
        }
      ]
    },
    {
      "cell_type": "markdown",
      "source": [
        "## 1.1 함수를 사용하는 이유\n",
        "\n",
        "1. **코드 재사용**: 함수를 사용하면 특정 작업을 수행하는 코드를 한 곳에 모아두고 필요할 때마다 재사용할 수 있습니다. 이로 인해 코드의 중복을 줄이고 유지보수가 용이해집니다.\n",
        "\n",
        "2. **모듈성**: 함수는 큰 문제를 작은 부분으로 나누어 해결할 수 있게 합니다. 이는 복잡한 문제를 간단한 부분으로 분해하여 각각을 독립적으로 해결할 수 있도록 도와줍니다.\n",
        "\n",
        "3. **가독성 향상**: 함수를 사용하면 코드가 더 읽기 쉬워집니다. 함수에 이름을 지어 해당 함수가 무엇을 하는지 명확하게 할 수 있으며, 코드의 구조를 더 명확하게 이해할 수 있습니다.\n",
        "\n",
        "4. **디버깅 용이**: 함수 단위로 코드를 나누면, 오류가 발생했을 때 문제의 원인을 찾기 쉽습니다. 함수별로 테스트하고 디버깅할 수 있기 때문에 전체 코드를 한 번에 처리하는 것보다 오류를 더 빨리 찾아낼 수 있습니다.\n",
        "\n",
        "5. **재사용성과 확장성**: 잘 설계된 함수는 다른 프로젝트에서도 재사용할 수 있습니다. 또한, 기능의 변경이나 확장이 필요할 때 함수 내부만 수정하면 되므로 전체 코드에 미치는 영향을 최소화할 수 있습니다."
      ],
      "metadata": {
        "id": "pbsjOgWOuTkj"
      }
    },
    {
      "cell_type": "code",
      "source": [
        "# 예시\n",
        "def 부지매입():\n",
        "    pass\n",
        "\n",
        "def 설계도면작성():\n",
        "    pass\n",
        "\n",
        "def 인력모집():\n",
        "    pass\n",
        "\n",
        "def 벽돌쌓기():\n",
        "    pass\n",
        "\n",
        "def 지붕올리기():\n",
        "    pass\n",
        "\n",
        "부지매입()\n",
        "설계도면작성()\n",
        "인력모집()\n",
        "벽돌쌓기()\n",
        "벽돌쌓기()\n",
        "지붕올리기()\n",
        "\n",
        "# 이 코드는 벽돌쌓기 함수가 2번 실행되었습니다.\n",
        "# 이처럼 코드의 양이 많더라도 코드를 재사용하는 것은 한 줄이면 되며, 실수를 줄일 수도 있습니다.\n",
        "# 또한 코드의 구조를 한 눈에 파악할 수도 있습니다."
      ],
      "metadata": {
        "id": "VOwWfciDv50H"
      },
      "execution_count": 11,
      "outputs": []
    }
  ]
}