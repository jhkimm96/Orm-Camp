{
  "nbformat": 4,
  "nbformat_minor": 0,
  "metadata": {
    "colab": {
      "provenance": []
    },
    "kernelspec": {
      "name": "python3",
      "display_name": "Python 3"
    },
    "language_info": {
      "name": "python"
    }
  },
  "cells": [
    {
      "cell_type": "markdown",
      "source": [
        "# 1. 함수 사용하기"
      ],
      "metadata": {
        "id": "uhOBkexU2ym_"
      }
    },
    {
      "cell_type": "code",
      "source": [
        "def function_name(x, y):\n",
        "    z = x + y # z = x + y는 x와 y의 값을 더하여 새로운 변수 z에 할당하고\n",
        "    return z  # return z는 할당 된 z를 함수의 결과로 반환합니다.\n",
        "\n",
        "print(f'function_name(10, 9) = {function_name(10, 9)}')"
      ],
      "metadata": {
        "colab": {
          "base_uri": "https://localhost:8080/"
        },
        "id": "A7lopqsu21Ls",
        "outputId": "590feb7b-c8c7-4617-c799-1e0b61b2cb28"
      },
      "execution_count": 2,
      "outputs": [
        {
          "output_type": "stream",
          "name": "stdout",
          "text": [
            "function_name(10, 9) = 19\n"
          ]
        }
      ]
    },
    {
      "cell_type": "code",
      "source": [
        "def function_name(x, y): # x, y는 function_name에서 사용할 매개변수 x, y\n",
        "    return x + y         # x + y는 function_name에서 수행되는 연산\n",
        "                         # return x + y -> x + y 값을 반환\n",
        "print(f'function_name(10,20) = {function_name(10, 20)}')"
      ],
      "metadata": {
        "colab": {
          "base_uri": "https://localhost:8080/"
        },
        "id": "Iz-8AMwO22sB",
        "outputId": "a77f72a8-7cae-40e3-c994-230b41bc08f2"
      },
      "execution_count": 4,
      "outputs": [
        {
          "output_type": "stream",
          "name": "stdout",
          "text": [
            "function_name(10,20) = 30\n"
          ]
        }
      ]
    },
    {
      "cell_type": "code",
      "source": [
        "def function_name(x, y):\n",
        "    z = x + y\n",
        "    return z\n",
        "\n",
        "# 1. return을 함수 내에 지정하지 않았을 때\n",
        "# print(f'function_name(10,20) = {function_name(10, 20)}')\n",
        "\n",
        "# 2. print()문을 사용하지 않았을 때\n",
        "function_name(10, 9)"
      ],
      "metadata": {
        "colab": {
          "base_uri": "https://localhost:8080/"
        },
        "id": "IZm5wRou5OXF",
        "outputId": "b78cef77-438d-418d-bfba-bff77c2ac789"
      },
      "execution_count": 5,
      "outputs": [
        {
          "output_type": "execute_result",
          "data": {
            "text/plain": [
              "19"
            ]
          },
          "metadata": {},
          "execution_count": 5
        }
      ]
    },
    {
      "cell_type": "markdown",
      "source": [
        "# 2. 함수 기본구조 실습\n",
        "## 2.1 입력 매개변수가 없고, 반환 값도 없는 함수\n",
        "\n"
      ],
      "metadata": {
        "id": "6FoRqzE07tmy"
      }
    },
    {
      "cell_type": "code",
      "source": [
        "def simple_function():\n",
        "    print('Hello, World!') # 출력: 'Hello, World!'\n",
        "\n",
        "# 함수 호출\n",
        "print(simple_function()) # 출력: None"
      ],
      "metadata": {
        "colab": {
          "base_uri": "https://localhost:8080/"
        },
        "id": "Bh9x4I3C8WMc",
        "outputId": "3e453093-5478-42cc-cec8-7d08acb3dcd4"
      },
      "execution_count": 6,
      "outputs": [
        {
          "output_type": "stream",
          "name": "stdout",
          "text": [
            "Hello, World!\n",
            "None\n"
          ]
        }
      ]
    },
    {
      "cell_type": "code",
      "source": [
        "a = 10\n",
        "b = None\n",
        "\n",
        "b # 출력되지 않습니다. a로 바꾸면 10이 출력됩니다.\n",
        "a"
      ],
      "metadata": {
        "colab": {
          "base_uri": "https://localhost:8080/"
        },
        "id": "w2OvGb1d8bh5",
        "outputId": "8e716780-06e7-4aee-c66b-389be26fdaa9"
      },
      "execution_count": 8,
      "outputs": [
        {
          "output_type": "execute_result",
          "data": {
            "text/plain": [
              "10"
            ]
          },
          "metadata": {},
          "execution_count": 8
        }
      ]
    },
    {
      "cell_type": "markdown",
      "source": [
        "## 2.2 파라미터(매개변수)가 없고, 반환 값은 있는 함수"
      ],
      "metadata": {
        "id": "YvsuU67S8egQ"
      }
    },
    {
      "cell_type": "code",
      "source": [
        "def give_me_five():\n",
        "    return 5\n",
        "\n",
        "result = give_me_five()\n",
        "print(result) # 매개변수가 없어도 return으로 5를 변환 받았기 때문에 5가 나온다"
      ],
      "metadata": {
        "colab": {
          "base_uri": "https://localhost:8080/"
        },
        "id": "I8r3PyJu8lqV",
        "outputId": "0a842faf-fe05-4530-f04e-572d5729ecb8"
      },
      "execution_count": 11,
      "outputs": [
        {
          "output_type": "stream",
          "name": "stdout",
          "text": [
            "5\n"
          ]
        }
      ]
    },
    {
      "cell_type": "markdown",
      "source": [
        "## 2.3 입력 매개변수가 있고, 반환 값이 없는 함수"
      ],
      "metadata": {
        "id": "x6vb65E18qeL"
      }
    },
    {
      "cell_type": "code",
      "source": [
        "def greeting(name):\n",
        "    print(f'Hello, {name}!')\n",
        "\n",
        "# 함수 호출\n",
        "greeting('Licat')\n",
        "\n",
        "# none 값 확인\n",
        "print(greeting('Licat'))"
      ],
      "metadata": {
        "colab": {
          "base_uri": "https://localhost:8080/"
        },
        "id": "8HSa6boE9zcL",
        "outputId": "4615a62a-83c4-4171-cbfb-6e7f927de592"
      },
      "execution_count": 13,
      "outputs": [
        {
          "output_type": "stream",
          "name": "stdout",
          "text": [
            "Hello, Licat!\n",
            "Hello, Licat!\n",
            "None\n"
          ]
        }
      ]
    },
    {
      "cell_type": "markdown",
      "source": [
        "## 2.4 입력 매개변수가 있고, 반환 값이 있는 함수"
      ],
      "metadata": {
        "id": "f2MXEwem903Q"
      }
    },
    {
      "cell_type": "code",
      "source": [
        "def add_numbers(x, y):\n",
        "    sum = x + y\n",
        "    return sum\n",
        "\n",
        "# 함수 호출\n",
        "result = add_numbers(5, 3)\n",
        "print(result)  # 출력: 8"
      ],
      "metadata": {
        "colab": {
          "base_uri": "https://localhost:8080/"
        },
        "id": "9iZmxle9DVaX",
        "outputId": "1ab301ac-3671-43bf-f7b7-dfb3b4001523"
      },
      "execution_count": 12,
      "outputs": [
        {
          "output_type": "stream",
          "name": "stdout",
          "text": [
            "8\n"
          ]
        }
      ]
    },
    {
      "cell_type": "markdown",
      "source": [
        "# 3.print와 return의 구분\n",
        "\n",
        "print와 return을 구별하는 것은 초급자에게 헷갈리는 내용입니다. print는 함수입니다. 아래 예제에서 function(5, 7)을 호출한 값을 출력해 보았더니 None이 출력됩니다. 이는 이 함수의 return 값이 없기 때문입니다."
      ],
      "metadata": {
        "id": "-saEkuiuDXNU"
      }
    },
    {
      "cell_type": "code",
      "source": [
        "def function(x, y):\n",
        "    z = x + y\n",
        "    print(z)\n",
        "print(f'function(5, 7) = {function(5, 7)}')\n",
        "\n",
        "function(5, 7)"
      ],
      "metadata": {
        "colab": {
          "base_uri": "https://localhost:8080/"
        },
        "id": "FXARMJ2CEHlK",
        "outputId": "254a7ecb-c170-40b3-cffe-6c290ad92bfb"
      },
      "execution_count": 18,
      "outputs": [
        {
          "output_type": "stream",
          "name": "stdout",
          "text": [
            "12\n",
            "function(5, 7) = None\n",
            "12\n"
          ]
        }
      ]
    },
    {
      "cell_type": "code",
      "source": [
        "print(print('hello'))"
      ],
      "metadata": {
        "colab": {
          "base_uri": "https://localhost:8080/"
        },
        "id": "-Zfa9nTsF7ov",
        "outputId": "0c627059-88d9-4701-9901-7d107049380f"
      },
      "execution_count": 20,
      "outputs": [
        {
          "output_type": "stream",
          "name": "stdout",
          "text": [
            "hello\n",
            "None\n"
          ]
        }
      ]
    }
  ]
}