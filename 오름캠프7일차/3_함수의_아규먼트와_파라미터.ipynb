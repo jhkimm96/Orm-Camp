{
  "nbformat": 4,
  "nbformat_minor": 0,
  "metadata": {
    "colab": {
      "provenance": []
    },
    "kernelspec": {
      "name": "python3",
      "display_name": "Python 3"
    },
    "language_info": {
      "name": "python"
    }
  },
  "cells": [
    {
      "cell_type": "markdown",
      "source": [
        "# 1. 파라미터와 아규먼트!!\n",
        "\n",
        "## 1.1 파라미터\n",
        "\n",
        " 함수를 정의할 때 사용되는 변수"
      ],
      "metadata": {
        "id": "AryL3b-3Gm8e"
      }
    },
    {
      "cell_type": "code",
      "source": [
        "def my_function(x, y):  # x 와 y는 파라미터 입니다.\n",
        "    return x + y"
      ],
      "metadata": {
        "id": "TRFHKlREGr8u"
      },
      "execution_count": 1,
      "outputs": []
    },
    {
      "cell_type": "markdown",
      "source": [
        "## 1.2 아큐먼트\n",
        "\n",
        "함수를 호출할 때 전달하는 실제 값"
      ],
      "metadata": {
        "id": "lnfzoGNzG0fE"
      }
    },
    {
      "cell_type": "code",
      "source": [
        "result = my_function(5, 3) # 5와 3은 아규먼트입니다."
      ],
      "metadata": {
        "id": "h-GPzBiQG_Vw"
      },
      "execution_count": null,
      "outputs": []
    },
    {
      "cell_type": "markdown",
      "source": [
        "## 1.3 예시\n",
        "\n",
        "기본적으로는 함수를 정의할 때 설정된 파라미터의 수와, 함수 호출 시 전달되는 아규먼트의 수가 일치해야 합니다. 다만 앞으로 배울 기본값이 설정된 파라미터는 아규먼트에서 값을 입력할 필요가 없을 수 있습니다."
      ],
      "metadata": {
        "id": "q6l_kVXmHNYV"
      }
    },
    {
      "cell_type": "code",
      "source": [
        "# 1. 기본 사용\n",
        "def f(a, b, c):\n",
        "    print(a, b, c)\n",
        "\n",
        "f(100, 10, 30)\n",
        "f(a=100, b=200, c=300)\n",
        "f(c=300, a=100, b=200)\n",
        "\n",
        "# a, b, c 각각 파라미터 값에 원하는 값 할당가능"
      ],
      "metadata": {
        "colab": {
          "base_uri": "https://localhost:8080/"
        },
        "id": "Xr3lJVFoHRMU",
        "outputId": "d06b5f62-05c7-4ae2-c5f9-be34d6b5c9ad"
      },
      "execution_count": 4,
      "outputs": [
        {
          "output_type": "stream",
          "name": "stdout",
          "text": [
            "100 10 30\n",
            "100 200 300\n",
            "100 200 300\n"
          ]
        }
      ]
    },
    {
      "cell_type": "code",
      "source": [
        "# 2. 기본값을 가진 파라미터\n",
        "\n",
        "def f(a=10, b=20, c=30):\n",
        "    print(a, b, c)\n",
        "\n",
        "f()\n",
        "f(100, 10)\n",
        "f(a=100, b=200, c=300)\n",
        "f(c=300, a=100, b=200)\n",
        "\n",
        "# 3.  일부 파라미터만 기본값을 가지는 경우 (잘못된 예)\n",
        "\n",
        "def f(a=10, b=20, c):\n",
        "    print(a, b, c) # error"
      ],
      "metadata": {
        "colab": {
          "base_uri": "https://localhost:8080/"
        },
        "id": "bJjmTittHc7n",
        "outputId": "5ee80313-e74f-4c52-f522-6797bc1bbfb1"
      },
      "execution_count": 5,
      "outputs": [
        {
          "output_type": "stream",
          "name": "stdout",
          "text": [
            "10 20 30\n",
            "100 10 30\n",
            "100 200 300\n",
            "100 200 300\n"
          ]
        }
      ]
    },
    {
      "cell_type": "code",
      "source": [
        "# 4. 일부 파라미터만 기본값을 가지는 경우 (올바른 예)\n",
        "\n",
        "def f(a, b=20, c=10):\n",
        "    print(a, b, c)\n",
        "\n",
        "f(100, 10)\n",
        "f(a=100, b=200, c=300)\n",
        "f(c=300, a=100, b=200)\n",
        "\n",
        "# 이 예제는 a 파라미터에 기본값이 없으며, b와 c에는 기본값이 설정되어 있습니다.\n",
        "# 함수 호출 시, a 파라미터에는 반드시 값을 전달해야 합니다.\n",
        "\n",
        "# print(f()) # error\n",
        "# print(f(c=300)) # error"
      ],
      "metadata": {
        "colab": {
          "base_uri": "https://localhost:8080/"
        },
        "id": "LcMhx6lcIrj7",
        "outputId": "8fee35b7-8594-4998-e128-21fe33747bc0"
      },
      "execution_count": 9,
      "outputs": [
        {
          "output_type": "stream",
          "name": "stdout",
          "text": [
            "100 10 10\n",
            "100 200 300\n",
            "100 200 300\n"
          ]
        }
      ]
    },
    {
      "cell_type": "code",
      "source": [
        "# 5.  컨밴션 자료형을 아규먼트로 넣었을 때\n",
        "\n",
        "def add_element(my_list):\n",
        "    my_list.append(1)\n",
        "\n",
        "a = [2, 3, 4]\n",
        "add_element(a)\n",
        "print(a)"
      ],
      "metadata": {
        "colab": {
          "base_uri": "https://localhost:8080/"
        },
        "id": "e9qJioUWKK7W",
        "outputId": "e34b9eea-5ec8-4115-8b07-e21aa1e3c558"
      },
      "execution_count": 10,
      "outputs": [
        {
          "output_type": "stream",
          "name": "stdout",
          "text": [
            "[2, 3, 4, 1]\n"
          ]
        }
      ]
    },
    {
      "cell_type": "code",
      "source": [
        "def add_element(my_list):\n",
        "    my_list.append(1)\n",
        "    print(id(my_list)) # 출력: 135115033605760\n",
        "\n",
        "a = [2, 3, 4]\n",
        "add_element(a)\n",
        "print(id(a)) # 출력: 135115033605760\n",
        "print(a)  # 출력: [2, 3, 4, 1]"
      ],
      "metadata": {
        "colab": {
          "base_uri": "https://localhost:8080/"
        },
        "id": "u-SKsan9Kry0",
        "outputId": "1cd7e41b-99a9-4489-9b80-8a645765563b"
      },
      "execution_count": 11,
      "outputs": [
        {
          "output_type": "stream",
          "name": "stdout",
          "text": [
            "135257693140160\n",
            "135257693140160\n",
            "[2, 3, 4, 1]\n"
          ]
        }
      ]
    },
    {
      "cell_type": "code",
      "source": [
        "def add_element(my_list):\n",
        "    my_list = 10\n",
        "    print(id(my_list)) # 출력: 135258105987600\n",
        "\n",
        "a = [2, 3, 4]\n",
        "add_element(a)\n",
        "print(id(a)) # 출력: 135257697595904\n",
        "print(a)  # 출력: [2, 3, 4]"
      ],
      "metadata": {
        "colab": {
          "base_uri": "https://localhost:8080/"
        },
        "id": "HE5Er6jMK_fN",
        "outputId": "a9b03244-936b-4121-cabf-d27a507afb25"
      },
      "execution_count": 18,
      "outputs": [
        {
          "output_type": "stream",
          "name": "stdout",
          "text": [
            "135258105987600\n",
            "135257697595904\n",
            "[2, 3, 4]\n"
          ]
        }
      ]
    },
    {
      "cell_type": "code",
      "source": [
        "# 6.  권장하지 않는 기본값\n",
        "# 파이썬에서 함수의 기본값은 함수가 정의될 때만 한 번 평가됩니다.\n",
        "# 이것은 리스트와 같이 변경 가능한 객체를 기본값으로 사용할 때 문제가 될 수 있습니다.\n",
        "# 권장하지 않는 방법\n",
        "def append_to_list(value, lst=[]):\n",
        "    lst.append(value)\n",
        "    return lst # 예상치 못한 결과가 발생할 수 있습니다."
      ],
      "metadata": {
        "id": "9_pN4m8JLlKP"
      },
      "execution_count": 19,
      "outputs": []
    },
    {
      "cell_type": "code",
      "source": [
        "# 권장 방법\n",
        "def append_to_list(value, lst=None):\n",
        "    if lst is None:\n",
        "        lst = []\n",
        "    lst.append(value)\n",
        "    return lst"
      ],
      "metadata": {
        "id": "bW_Ydu1YesNv"
      },
      "execution_count": 20,
      "outputs": []
    },
    {
      "cell_type": "code",
      "source": [],
      "metadata": {
        "id": "6i5FQRh9et7l"
      },
      "execution_count": null,
      "outputs": []
    }
  ]
}