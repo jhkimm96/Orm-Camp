{
  "nbformat": 4,
  "nbformat_minor": 0,
  "metadata": {
    "colab": {
      "provenance": []
    },
    "kernelspec": {
      "name": "python3",
      "display_name": "Python 3"
    },
    "language_info": {
      "name": "python"
    }
  },
  "cells": [
    {
      "cell_type": "markdown",
      "source": [
        "# 1. 문자열 자료형\n",
        "\n",
        "## 1.1 문자열 생성\n",
        "\n",
        "단순히 작은 따옴표(') 또는 큰 따옴표(\")로 문자들을 감싸면 됩니다. -> 단순히 회사에 맞춰 쓴다."
      ],
      "metadata": {
        "id": "2t5MamkrnlIe"
      }
    },
    {
      "cell_type": "code",
      "source": [
        "# 문자열 기초\n",
        "\n",
        "x = 'hello'\n",
        "y = \"python\"\n",
        "i = '''안녕하세요. 김지희입니다.\n",
        "파이썬을 배우고 있는 중입니다.\n",
        "앞으로 열심히 더 진행하도록 하겠습니다.'''\n",
        "j = \"\"\"안녕하세요. 김지희입니다.\n",
        "파이썬을 배우고 있는 중입니다.\"\"\"\n",
        "\n",
        "print(x, y)\n",
        "print(type(x), type(y))"
      ],
      "metadata": {
        "colab": {
          "base_uri": "https://localhost:8080/"
        },
        "id": "rcPycyLqx1Ns",
        "outputId": "c45823b5-3050-4583-e240-f955a84d656b"
      },
      "execution_count": 7,
      "outputs": [
        {
          "output_type": "stream",
          "name": "stdout",
          "text": [
            "hello python\n",
            "<class 'str'> <class 'str'>\n"
          ]
        }
      ]
    },
    {
      "cell_type": "code",
      "source": [
        "print(i)\n",
        "print(j)"
      ],
      "metadata": {
        "colab": {
          "base_uri": "https://localhost:8080/"
        },
        "id": "JmA_EPBEyeXT",
        "outputId": "ed362a17-d364-44c1-f1fd-7fc21613effa"
      },
      "execution_count": 8,
      "outputs": [
        {
          "output_type": "stream",
          "name": "stdout",
          "text": [
            "안녕하세요. 김지희입니다.\n",
            "파이썬을 배우고 있는 중입니다.\n",
            "앞으로 열심히 더 진행하도록 하겠습니다.\n",
            "안녕하세요. 김지희입니다.\n",
            "파이썬을 배우고 있는 중입니다.\n"
          ]
        }
      ]
    },
    {
      "cell_type": "markdown",
      "source": [
        "## 1.2 덧셈과 곱셈 연산\n"
      ],
      "metadata": {
        "id": "WtqMtZOvyjYc"
      }
    },
    {
      "cell_type": "code",
      "source": [
        "# 문자열의 덧셈\n",
        "\n",
        "x = 'hello'\n",
        "y = \"python\"\n",
        "print(x + y)"
      ],
      "metadata": {
        "colab": {
          "base_uri": "https://localhost:8080/"
        },
        "id": "9_9RveSR1-jV",
        "outputId": "78603807-5bb2-403f-b5d0-b8be8f577635"
      },
      "execution_count": 10,
      "outputs": [
        {
          "output_type": "stream",
          "name": "stdout",
          "text": [
            "hellopython\n"
          ]
        }
      ]
    },
    {
      "cell_type": "code",
      "source": [
        "# 문자열의 곱셈\n",
        "\n",
        "print(x * 100)"
      ],
      "metadata": {
        "colab": {
          "base_uri": "https://localhost:8080/"
        },
        "id": "_Zr-jwt62QpH",
        "outputId": "cb36bb76-fefa-4b45-f8b7-5fc199e470a3"
      },
      "execution_count": 11,
      "outputs": [
        {
          "output_type": "stream",
          "name": "stdout",
          "text": [
            "hellohellohellohellohellohellohellohellohellohellohellohellohellohellohellohellohellohellohellohellohellohellohellohellohellohellohellohellohellohellohellohellohellohellohellohellohellohellohellohellohellohellohellohellohellohellohellohellohellohellohellohellohellohellohellohellohellohellohellohellohellohellohellohellohellohellohellohellohellohellohellohellohellohellohellohellohellohellohellohellohellohellohellohellohellohellohellohellohellohellohellohellohellohellohellohellohellohellohellohello\n"
          ]
        }
      ]
    },
    {
      "cell_type": "markdown",
      "source": [
        "## 1.3 문자열의 인덱싱 !!\n",
        "\n",
        "1. 문자열의 순서 : 인덱스\n",
        "2. 해당위치에 값에 접근할 수 있는 방법 : 인덱싱\n",
        "3. 인덱스 0 ~ 마지막 문자의 인덱스 -1"
      ],
      "metadata": {
        "id": "UAbF0U3m2YCC"
      }
    },
    {
      "cell_type": "code",
      "source": [
        "# 문자열 인덱싱\n",
        "\n",
        "s = '위니브 월드!'\n",
        "print(s[0])\n",
        "print(s[6])\n",
        "print(s[-1])"
      ],
      "metadata": {
        "colab": {
          "base_uri": "https://localhost:8080/"
        },
        "id": "aaCOI-Nd2tn2",
        "outputId": "d0d7f68d-f606-436f-9584-ec86e2b2dcbb"
      },
      "execution_count": 13,
      "outputs": [
        {
          "output_type": "stream",
          "name": "stdout",
          "text": [
            "위\n",
            "!\n",
            "!\n"
          ]
        }
      ]
    },
    {
      "cell_type": "code",
      "source": [
        "# IndexError\n",
        "\n",
        "print(s[7])"
      ],
      "metadata": {
        "colab": {
          "base_uri": "https://localhost:8080/",
          "height": 184
        },
        "id": "3dcScHpR3E0z",
        "outputId": "d8b13cef-271f-4c64-d6ce-eaf79458a9b2"
      },
      "execution_count": 14,
      "outputs": [
        {
          "output_type": "error",
          "ename": "IndexError",
          "evalue": "ignored",
          "traceback": [
            "\u001b[0;31m---------------------------------------------------------------------------\u001b[0m",
            "\u001b[0;31mIndexError\u001b[0m                                Traceback (most recent call last)",
            "\u001b[0;32m<ipython-input-14-2ea561dd801a>\u001b[0m in \u001b[0;36m<cell line: 1>\u001b[0;34m()\u001b[0m\n\u001b[0;32m----> 1\u001b[0;31m \u001b[0mprint\u001b[0m\u001b[0;34m(\u001b[0m\u001b[0ms\u001b[0m\u001b[0;34m[\u001b[0m\u001b[0;36m7\u001b[0m\u001b[0;34m]\u001b[0m\u001b[0;34m)\u001b[0m\u001b[0;34m\u001b[0m\u001b[0;34m\u001b[0m\u001b[0m\n\u001b[0m",
            "\u001b[0;31mIndexError\u001b[0m: string index out of range"
          ]
        }
      ]
    },
    {
      "cell_type": "markdown",
      "source": [
        "## 1.4 문자열 슬라이싱\n",
        "\n",
        "1. 문자열의 일부분 추출\n",
        "2. 슬라이싱은 [start:stop:step] 형태로 사용하며, step은 기본적으로 1이며 콜론과 함께 생략될 수 있습니다. 여기서 stop 인덱스는 포함하지 않습니다.\n",
        "3. 인덱스 범위가 넘어가도 오류를 내지 않는다."
      ],
      "metadata": {
        "id": "6Vo0WoG121xi"
      }
    },
    {
      "cell_type": "code",
      "source": [
        "# 슬라이싱\n",
        "\n",
        "s = 'weniv CEO licat'\n",
        "\n",
        "print(s[0:6])\n",
        "print(s[6:8])\n",
        "print(s[0:9:2])\n",
        "# 시작점 설정하고 끝까지 출력\n",
        "print(s[6:])\n",
        "# 전체 출력\n",
        "print(s[:])\n",
        "# 거꾸로 출력\n",
        "print(s[::-1])\n",
        "# 두칸씩 뛰어서 출력\n",
        "print(s[::2])"
      ],
      "metadata": {
        "colab": {
          "base_uri": "https://localhost:8080/"
        },
        "id": "7kW6RRiK4WaX",
        "outputId": "7cc1af89-17fa-4a69-92c6-209115053831"
      },
      "execution_count": 16,
      "outputs": [
        {
          "output_type": "stream",
          "name": "stdout",
          "text": [
            "weniv \n",
            "CE\n",
            "wnvCO\n",
            "CEO licat\n",
            "weniv CEO licat\n",
            "tacil OEC vinew\n",
            "wnvCOlct\n"
          ]
        }
      ]
    },
    {
      "cell_type": "code",
      "source": [
        "# 에러 x\n",
        "\n",
        "s = 'weniv CEO licat'\n",
        "print(s[0:100])"
      ],
      "metadata": {
        "colab": {
          "base_uri": "https://localhost:8080/"
        },
        "id": "fILjcgJ_4ij3",
        "outputId": "46124135-3bbd-4704-df68-92dd58064b11"
      },
      "execution_count": 17,
      "outputs": [
        {
          "output_type": "stream",
          "name": "stdout",
          "text": [
            "weniv CEO licat\n"
          ]
        }
      ]
    },
    {
      "cell_type": "code",
      "source": [
        "# 슬라이스 실습\n",
        "\n",
        "# png빼고 weniv_licat만 나오게\n",
        "\n",
        "s = 'weniv_licat.png'\n",
        "print(s[0:-4])\n",
        "\n",
        "# png만 나오게\n",
        "s = 'weniv_licat.png'\n",
        "print(s[-3:])"
      ],
      "metadata": {
        "colab": {
          "base_uri": "https://localhost:8080/"
        },
        "id": "3bat8L6o6JXd",
        "outputId": "48996d82-0e6c-46d8-d75b-cfa164734631"
      },
      "execution_count": 26,
      "outputs": [
        {
          "output_type": "stream",
          "name": "stdout",
          "text": [
            "weniv_licat\n",
            "png\n"
          ]
        }
      ]
    },
    {
      "cell_type": "markdown",
      "source": [
        "## 1.5 슬라이스 복사 - 다만 id가 달라짐"
      ],
      "metadata": {
        "id": "-xq1jgQI8Iy3"
      }
    },
    {
      "cell_type": "code",
      "source": [
        "s = [1, 2, 3]\n",
        "ss = s[:]\n",
        "\n",
        "print(id(s), id(ss))"
      ],
      "metadata": {
        "colab": {
          "base_uri": "https://localhost:8080/"
        },
        "id": "8wdIwSmc8N7W",
        "outputId": "9d0800bd-cce1-4d82-9b89-a13517a7348e"
      },
      "execution_count": 27,
      "outputs": [
        {
          "output_type": "stream",
          "name": "stdout",
          "text": [
            "134222178757568 134222178761792\n"
          ]
        }
      ]
    },
    {
      "cell_type": "markdown",
      "source": [
        "# 2. 문자열 메서드\n"
      ],
      "metadata": {
        "id": "3mAswkBj8Ynw"
      }
    },
    {
      "cell_type": "code",
      "source": [
        "# 메서드 1 : 대문자 소문자\n",
        "\n",
        "s = 'weniv CEO licat'\n",
        "s.lower()"
      ],
      "metadata": {
        "colab": {
          "base_uri": "https://localhost:8080/",
          "height": 35
        },
        "id": "1Eg_2q688jhx",
        "outputId": "9e2ead05-371c-4b3b-c078-7c09fd64484b"
      },
      "execution_count": 31,
      "outputs": [
        {
          "output_type": "execute_result",
          "data": {
            "text/plain": [
              "'weniv ceo licat'"
            ],
            "application/vnd.google.colaboratory.intrinsic+json": {
              "type": "string"
            }
          },
          "metadata": {},
          "execution_count": 31
        }
      ]
    },
    {
      "cell_type": "code",
      "source": [
        "s.upper()"
      ],
      "metadata": {
        "colab": {
          "base_uri": "https://localhost:8080/",
          "height": 35
        },
        "id": "uvtrRqjn8rbq",
        "outputId": "7ff0e647-7cae-4e72-ed95-1aaaf1c6c5e8"
      },
      "execution_count": 32,
      "outputs": [
        {
          "output_type": "execute_result",
          "data": {
            "text/plain": [
              "'WENIV CEO LICAT'"
            ],
            "application/vnd.google.colaboratory.intrinsic+json": {
              "type": "string"
            }
          },
          "metadata": {},
          "execution_count": 32
        }
      ]
    },
    {
      "cell_type": "code",
      "source": [
        "# 메서드 2 : find index\n",
        "\n",
        "s = 'weniv CEO licat'\n",
        "s.find('CEO') #문자열을 찾아주는 method"
      ],
      "metadata": {
        "colab": {
          "base_uri": "https://localhost:8080/"
        },
        "id": "uAD-Vith8xxt",
        "outputId": "a7c3b0f4-7bee-42dd-9c58-be802a204cb4"
      },
      "execution_count": 34,
      "outputs": [
        {
          "output_type": "execute_result",
          "data": {
            "text/plain": [
              "6"
            ]
          },
          "metadata": {},
          "execution_count": 34
        }
      ]
    },
    {
      "cell_type": "code",
      "source": [
        "s.index('CEO')"
      ],
      "metadata": {
        "colab": {
          "base_uri": "https://localhost:8080/"
        },
        "id": "Zc-pFnRM9Ky0",
        "outputId": "a72f2d4a-a9a6-4b8c-ec85-6cf0ae29dc6d"
      },
      "execution_count": 35,
      "outputs": [
        {
          "output_type": "execute_result",
          "data": {
            "text/plain": [
              "6"
            ]
          },
          "metadata": {},
          "execution_count": 35
        }
      ]
    },
    {
      "cell_type": "code",
      "source": [
        "s.find('CTO') # 찾을 수 없는 문자열일 경우 -1 반환"
      ],
      "metadata": {
        "colab": {
          "base_uri": "https://localhost:8080/"
        },
        "id": "gWI1qJ959RxJ",
        "outputId": "d9ab2bb7-6cc8-4760-a35e-af43e79bbb5c"
      },
      "execution_count": 36,
      "outputs": [
        {
          "output_type": "execute_result",
          "data": {
            "text/plain": [
              "-1"
            ]
          },
          "metadata": {},
          "execution_count": 36
        }
      ]
    },
    {
      "cell_type": "code",
      "source": [
        "s.index('CTO') # 찾을 수 없는 문자열일 경우 value 에러"
      ],
      "metadata": {
        "colab": {
          "base_uri": "https://localhost:8080/",
          "height": 184
        },
        "id": "OgSpTeTU9VSs",
        "outputId": "98b9627a-df41-4f2a-a293-887a99785e3e"
      },
      "execution_count": 37,
      "outputs": [
        {
          "output_type": "error",
          "ename": "ValueError",
          "evalue": "ignored",
          "traceback": [
            "\u001b[0;31m---------------------------------------------------------------------------\u001b[0m",
            "\u001b[0;31mValueError\u001b[0m                                Traceback (most recent call last)",
            "\u001b[0;32m<ipython-input-37-757e572f43a6>\u001b[0m in \u001b[0;36m<cell line: 1>\u001b[0;34m()\u001b[0m\n\u001b[0;32m----> 1\u001b[0;31m \u001b[0ms\u001b[0m\u001b[0;34m.\u001b[0m\u001b[0mindex\u001b[0m\u001b[0;34m(\u001b[0m\u001b[0;34m'CTO'\u001b[0m\u001b[0;34m)\u001b[0m\u001b[0;34m\u001b[0m\u001b[0;34m\u001b[0m\u001b[0m\n\u001b[0m",
            "\u001b[0;31mValueError\u001b[0m: substring not found"
          ]
        }
      ]
    },
    {
      "cell_type": "code",
      "source": [
        "# 메서드 3 : count\n",
        "\n",
        "s = 'weniv CEO licat'\n",
        "s.count('i') #문자열이나 숫자를 셀 때 사용\n",
        "\n",
        "# 공백, 대문자/소문자구분/ 일치만 하면 다 찾아줌."
      ],
      "metadata": {
        "colab": {
          "base_uri": "https://localhost:8080/"
        },
        "id": "5cnyMRmo9g2Z",
        "outputId": "56a3615e-f9a7-4180-8149-ea1464e7faec"
      },
      "execution_count": 38,
      "outputs": [
        {
          "output_type": "execute_result",
          "data": {
            "text/plain": [
              "2"
            ]
          },
          "metadata": {},
          "execution_count": 38
        }
      ]
    },
    {
      "cell_type": "code",
      "source": [
        "# 메서드 4 : strip\n",
        "# strip 함수를 너무 신뢰하면 안된다.\n",
        "\n",
        "s = '    weniv CEO licat     '\n",
        "s.strip() #양쪽 공백을 제거"
      ],
      "metadata": {
        "colab": {
          "base_uri": "https://localhost:8080/",
          "height": 35
        },
        "id": "ZUFbqpG29q14",
        "outputId": "925a23ce-2c36-4b03-9a83-d982f1001915"
      },
      "execution_count": 39,
      "outputs": [
        {
          "output_type": "execute_result",
          "data": {
            "text/plain": [
              "'weniv CEO licat'"
            ],
            "application/vnd.google.colaboratory.intrinsic+json": {
              "type": "string"
            }
          },
          "metadata": {},
          "execution_count": 39
        }
      ]
    },
    {
      "cell_type": "code",
      "source": [
        "'    ,!!  hello world   '.strip(' ,!')  #양쪽의 공백과 ',!'을 제거"
      ],
      "metadata": {
        "colab": {
          "base_uri": "https://localhost:8080/",
          "height": 35
        },
        "id": "0FG0xi-T92Ke",
        "outputId": "2f65b9a0-cc1d-4d52-cf60-b5993856df67"
      },
      "execution_count": 40,
      "outputs": [
        {
          "output_type": "execute_result",
          "data": {
            "text/plain": [
              "'hello world'"
            ],
            "application/vnd.google.colaboratory.intrinsic+json": {
              "type": "string"
            }
          },
          "metadata": {},
          "execution_count": 40
        }
      ]
    },
    {
      "cell_type": "code",
      "source": [
        "# 메서드 5 : replace\n",
        "# 특정 문자열을 찾아서 다른 문자열로 대체\n",
        "# .replace(변경할 문자, 변경될 문자)\n",
        "''' 대소문자를 구분하기 때문에 대소문자를 구분하지 않고 대체하고 싶다면\n",
        "  대소문자를 일치시킨 후 replace( ) method를 사용해야 합니다.'''\n",
        "\n",
        "s = 'weniv CEO licat'\n",
        "s.replace('CEO', 'CTO') #원하는 문자열을 다른 문자열로 대체할 때 사용하는 method"
      ],
      "metadata": {
        "colab": {
          "base_uri": "https://localhost:8080/",
          "height": 35
        },
        "id": "BskGjPJP-5Ii",
        "outputId": "1f43cdfe-aada-4d60-94ea-1623472b06ee"
      },
      "execution_count": 42,
      "outputs": [
        {
          "output_type": "execute_result",
          "data": {
            "text/plain": [
              "'weniv CTO licat'"
            ],
            "application/vnd.google.colaboratory.intrinsic+json": {
              "type": "string"
            }
          },
          "metadata": {},
          "execution_count": 42
        }
      ]
    },
    {
      "cell_type": "code",
      "source": [
        "# 메서드 6 : split\n",
        "\n",
        "s = 'weniv CEO licat'\n",
        "s.split() #공백을 기준으로 문자열 나누기\n"
      ],
      "metadata": {
        "colab": {
          "base_uri": "https://localhost:8080/"
        },
        "id": "A8laWES4_Hrh",
        "outputId": "6673b115-d33c-4463-a30d-890571fcf158"
      },
      "execution_count": 47,
      "outputs": [
        {
          "output_type": "execute_result",
          "data": {
            "text/plain": [
              "['weniv', 'CEO', 'licat']"
            ]
          },
          "metadata": {},
          "execution_count": 47
        }
      ]
    },
    {
      "cell_type": "code",
      "source": [
        "ss = '010-0000-0000'\n",
        "#ss.split('-')\n",
        "print(ss.split('-'))"
      ],
      "metadata": {
        "colab": {
          "base_uri": "https://localhost:8080/"
        },
        "id": "m-B1hVFo_jZK",
        "outputId": "3aef9a05-4e64-4927-c981-8f98be6c5c89"
      },
      "execution_count": 53,
      "outputs": [
        {
          "output_type": "stream",
          "name": "stdout",
          "text": [
            "['010', '0000', '0000']\n"
          ]
        }
      ]
    },
    {
      "cell_type": "code",
      "source": [
        "# 메서드 7 : join\n",
        "\n",
        "s = ['weniv', 'CEO', 'licat']\n",
        "'-'.join(s) #리스트를 하나의 문자열로 합치기"
      ],
      "metadata": {
        "colab": {
          "base_uri": "https://localhost:8080/",
          "height": 35
        },
        "id": "yLMGPwyHD-5g",
        "outputId": "1e75085f-94bc-4c7e-d62e-9b22618f05b0"
      },
      "execution_count": 54,
      "outputs": [
        {
          "output_type": "execute_result",
          "data": {
            "text/plain": [
              "'weniv-CEO-licat'"
            ],
            "application/vnd.google.colaboratory.intrinsic+json": {
              "type": "string"
            }
          },
          "metadata": {},
          "execution_count": 54
        }
      ]
    },
    {
      "cell_type": "code",
      "source": [
        "s = '010 1000 1000'\n",
        "'-'.join(s.split()) #공백을 기준으로 문자열을 나눈 후 '-'로 합치기"
      ],
      "metadata": {
        "colab": {
          "base_uri": "https://localhost:8080/",
          "height": 35
        },
        "id": "wxDzX83zEsy8",
        "outputId": "c7686503-b80a-47b1-b772-4bf18ba27496"
      },
      "execution_count": 55,
      "outputs": [
        {
          "output_type": "execute_result",
          "data": {
            "text/plain": [
              "'010-1000-1000'"
            ],
            "application/vnd.google.colaboratory.intrinsic+json": {
              "type": "string"
            }
          },
          "metadata": {},
          "execution_count": 55
        }
      ]
    },
    {
      "cell_type": "code",
      "source": [
        "# 메서드 8 : format\n",
        "\n",
        "name = 'licat'\n",
        "age = 29\n",
        "\n",
        "print('제 이름은 {}이고, 나이는 {}살입니다.'.format(name, age)) # 변수 {}{} 순서대로 format 맞춰서 대입"
      ],
      "metadata": {
        "colab": {
          "base_uri": "https://localhost:8080/"
        },
        "id": "Kg-qkYTrEtzz",
        "outputId": "27d89c7f-e79b-4f55-a81c-7781b5ec9092"
      },
      "execution_count": 56,
      "outputs": [
        {
          "output_type": "stream",
          "name": "stdout",
          "text": [
            "제 이름은 licat이고, 나이는 29살입니다.\n"
          ]
        }
      ]
    },
    {
      "cell_type": "code",
      "source": [
        "# 메서드 9 : isalnum( ) / isdigit( ) / isalpha( ) / isascii( )\n",
        "\n",
        "print('abcd1234'.isalnum())\n",
        "print('안녕하세요'.isalpha())\n",
        "print('こんにちは'.isdigit())\n",
        "print('你好'.isascii())"
      ],
      "metadata": {
        "colab": {
          "base_uri": "https://localhost:8080/"
        },
        "id": "SC6-wpp8FKsW",
        "outputId": "d1bfaa33-ea63-49e1-fdb6-91d50ec4f74e"
      },
      "execution_count": 61,
      "outputs": [
        {
          "output_type": "stream",
          "name": "stdout",
          "text": [
            "True\n",
            "True\n",
            "False\n",
            "False\n"
          ]
        }
      ]
    },
    {
      "cell_type": "code",
      "source": [
        "# 메서드 10 : rjust( ) / ljust( ) / center( )\n",
        "\n",
        "s = 'licat'\n",
        "print(s.rjust(10, '-')) #문자열을 지정한 길이로 맞추고, 왼쪽을 '-'로 채우는 method\n",
        "# 010-****-**** 등을 사용할떄 많이 사용한다.\n",
        "\n",
        "s = 'licat'\n",
        "print(s.ljust(10, '-')) #문자열을 지정한 길이로 맞추고, 오른쪽을 '-'로 채우는 method\n",
        "\n",
        "s = 'licat'\n",
        "print(s.center(11, '-')) #문자열을 지정한 길이로 맞추고, 양쪽을 '-'로 채우는 method\n",
        "\n",
        "s = '960923-2'\n",
        "print(s.ljust(14, '*'))"
      ],
      "metadata": {
        "colab": {
          "base_uri": "https://localhost:8080/"
        },
        "id": "vw5XZAqbI6fm",
        "outputId": "018f8e0a-2abb-4c7d-918e-e83fac29fc23"
      },
      "execution_count": 65,
      "outputs": [
        {
          "output_type": "stream",
          "name": "stdout",
          "text": [
            "-----licat\n",
            "licat-----\n",
            "---licat---\n",
            "960923-2******\n"
          ]
        }
      ]
    },
    {
      "cell_type": "code",
      "source": [
        "# 메서드 11 : zfill\n",
        "\n",
        "x = \"42\"\n",
        "result = x.zfill(5)\n",
        "print(result)"
      ],
      "metadata": {
        "colab": {
          "base_uri": "https://localhost:8080/"
        },
        "id": "1mjS9qaoM1K6",
        "outputId": "a9ff28d6-e9a5-493d-e806-ca5e28adb09c"
      },
      "execution_count": 66,
      "outputs": [
        {
          "output_type": "stream",
          "name": "stdout",
          "text": [
            "00042\n"
          ]
        }
      ]
    },
    {
      "cell_type": "code",
      "source": [
        "y = \"-42\"\n",
        "result = y.zfill(5)\n",
        "print(result)"
      ],
      "metadata": {
        "colab": {
          "base_uri": "https://localhost:8080/"
        },
        "id": "wl9YQvstNbZy",
        "outputId": "37cad5d9-60d9-46e6-cf6a-e7a65ba24b1b"
      },
      "execution_count": 67,
      "outputs": [
        {
          "output_type": "stream",
          "name": "stdout",
          "text": [
            "-0042\n"
          ]
        }
      ]
    },
    {
      "cell_type": "code",
      "source": [
        "# 문자열\n",
        "z = \"abc\"\n",
        "result = z.zfill(5)\n",
        "print(result)  # 00abc"
      ],
      "metadata": {
        "colab": {
          "base_uri": "https://localhost:8080/"
        },
        "id": "1tVhNqyqN1d7",
        "outputId": "b87578ec-b7fc-476b-cd37-ee0d2d8aa5b9"
      },
      "execution_count": 68,
      "outputs": [
        {
          "output_type": "stream",
          "name": "stdout",
          "text": [
            "00abc\n"
          ]
        }
      ]
    },
    {
      "cell_type": "code",
      "source": [
        "# 순차적으로 붙일\n",
        "filename = '1'.zfill(3) + \".jpg\"\n",
        "print(filename)"
      ],
      "metadata": {
        "colab": {
          "base_uri": "https://localhost:8080/"
        },
        "id": "miFGKOHMN25v",
        "outputId": "d00dc6b3-fa36-4666-ac7d-d27090d18bb3"
      },
      "execution_count": 69,
      "outputs": [
        {
          "output_type": "stream",
          "name": "stdout",
          "text": [
            "001.jpg\n"
          ]
        }
      ]
    },
    {
      "cell_type": "code",
      "source": [
        "#\n",
        "년 = '23'\n",
        "월 = '9'\n",
        "일 = '8'\n",
        "오늘날짜 = 년 + 월 + 일\n",
        "print(오늘날짜)\n",
        "오늘날짜 = 년 + 월.zfill(2) + 일.zfill(2)\n",
        "print(오늘날짜)"
      ],
      "metadata": {
        "colab": {
          "base_uri": "https://localhost:8080/"
        },
        "id": "fQvXrnb1OD8q",
        "outputId": "7fe38767-eb63-4e17-e1ce-17b0b194356b"
      },
      "execution_count": 70,
      "outputs": [
        {
          "output_type": "stream",
          "name": "stdout",
          "text": [
            "2398\n",
            "230908\n"
          ]
        }
      ]
    },
    {
      "cell_type": "code",
      "source": [
        "# 메서드 12 : translate\n",
        "\n",
        "# 변환 테이블 생성\n",
        "table = str.maketrans(\"abc\", \"123\")\n",
        "\n",
        "# 문자열 치환하기\n",
        "text = \"abcde a b c abc\"\n",
        "result = text.translate(table)\n",
        "print(result)"
      ],
      "metadata": {
        "colab": {
          "base_uri": "https://localhost:8080/"
        },
        "id": "68HDTcr5ONzD",
        "outputId": "1c328469-79a9-4d6c-a25e-157c8dbbec40"
      },
      "execution_count": 71,
      "outputs": [
        {
          "output_type": "stream",
          "name": "stdout",
          "text": [
            "123de 1 2 3 123\n"
          ]
        }
      ]
    },
    {
      "cell_type": "code",
      "source": [
        "# 특정 문자 제거하기\n",
        "\n",
        "table = str.maketrans('', '', 'de')\n",
        "text = \"abcde\"\n",
        "result = text.translate(table)\n",
        "print(result)"
      ],
      "metadata": {
        "colab": {
          "base_uri": "https://localhost:8080/"
        },
        "id": "YjDUAJbVR4cw",
        "outputId": "88c7a2fa-34a1-4d6f-d12b-17bf7f851db6"
      },
      "execution_count": 72,
      "outputs": [
        {
          "output_type": "stream",
          "name": "stdout",
          "text": [
            "abc\n"
          ]
        }
      ]
    },
    {
      "cell_type": "code",
      "source": [
        "table = str.maketrans('\\n\\t', '  ') # 똑같은 길이를 가지고 있어야 함\n",
        "'weniv \\n\\n\\n CEO \\t\\t\\t licat'.translate(table)"
      ],
      "metadata": {
        "colab": {
          "base_uri": "https://localhost:8080/",
          "height": 35
        },
        "id": "XSdFCjz3SLBC",
        "outputId": "d7e81e67-d5ca-4225-b7f6-281bbcbae659"
      },
      "execution_count": 73,
      "outputs": [
        {
          "output_type": "execute_result",
          "data": {
            "text/plain": [
              "'weniv     CEO     licat'"
            ],
            "application/vnd.google.colaboratory.intrinsic+json": {
              "type": "string"
            }
          },
          "metadata": {},
          "execution_count": 73
        }
      ]
    },
    {
      "cell_type": "markdown",
      "source": [
        "## 3. 문자열 포매팅\n"
      ],
      "metadata": {
        "id": "koRxvQ28SVFw"
      }
    },
    {
      "cell_type": "code",
      "source": [
        "# format() 메서드 사용\n",
        "\n",
        "s = 'My name is {}'.format('licat')\n",
        "print(s) # My name is licat"
      ],
      "metadata": {
        "colab": {
          "base_uri": "https://localhost:8080/"
        },
        "id": "5wIkYhPDSs94",
        "outputId": "6ea08a84-5483-4aad-98e5-cb199e005849"
      },
      "execution_count": 74,
      "outputs": [
        {
          "output_type": "stream",
          "name": "stdout",
          "text": [
            "My name is licat\n"
          ]
        }
      ]
    },
    {
      "cell_type": "code",
      "source": [
        "# f-string 사용\n",
        "\n",
        "name = 'licat'\n",
        "age = 29\n",
        "s = f'{name[2:]}, {age+10}!'\n",
        "print(s) # licat, 39!"
      ],
      "metadata": {
        "colab": {
          "base_uri": "https://localhost:8080/"
        },
        "id": "WUOdb7ykS8Qb",
        "outputId": "197a4f50-dae5-4955-afb7-11c8a9adae07"
      },
      "execution_count": 81,
      "outputs": [
        {
          "output_type": "stream",
          "name": "stdout",
          "text": [
            "cat, 39!\n"
          ]
        }
      ]
    },
    {
      "cell_type": "markdown",
      "source": [
        "# 4. 이스케이프 문자\n",
        "주로 백슬래시(\\\\)로 시작하며, 백슬래시 뒤에 오는 문자와 함께 특정한 문자나 명령을 나타냅니다.\n",
        "\n",
        "## 4.1 **주요 이스케이프 문자들**\n",
        "\n",
        "- `\\n`: 새로운 줄(줄바꿈)을 나타냅니다.\n",
        "- `\\t`: 탭 문자를 나타냅니다.\n",
        "- `\\r`: 커서를 현재 줄의 처음으로 이동합니다.\n",
        "- `\\\"`: 큰따옴표를 나타냅니다.\n",
        "- `\\'`: 작은따옴표를 나타냅니다.\n",
        "- `\\\\`: 백슬래시를 나타냅니다."
      ],
      "metadata": {
        "id": "eWVrxzfoTA6i"
      }
    },
    {
      "cell_type": "code",
      "source": [
        "print(\"Hello\\nWorld!\") # Hello와 World! 사이에 줄바꿈이 일어납니다.\n",
        "print(\"Hello\\tWorld!\") # Hello와 World! 사이에 탭 간격이 생깁니다.\n",
        "print(\"She said, \\\"Hello World!\\\"\") # 큰따옴표 내부에 문자열을 출력합니다.\n",
        "print('She said, \\'Hello World!\\'') # 작은따옴표 내부에 문자열을 출력합니다.\n",
        "print(\"Backslash: \\\\\") # 백슬래시를 출력합니다."
      ],
      "metadata": {
        "colab": {
          "base_uri": "https://localhost:8080/"
        },
        "id": "ufbEFDazThEC",
        "outputId": "c20de490-444e-4537-a92c-725560bfcacd"
      },
      "execution_count": 82,
      "outputs": [
        {
          "output_type": "stream",
          "name": "stdout",
          "text": [
            "Hello\n",
            "World!\n",
            "Hello\tWorld!\n",
            "She said, \"Hello World!\"\n",
            "She said, 'Hello World!'\n",
            "Backslash: \\\n"
          ]
        }
      ]
    },
    {
      "cell_type": "markdown",
      "source": [
        "# 5. 논리자료형\n",
        "\n",
        "## 5.1 Bool"
      ],
      "metadata": {
        "id": "rGMfLgIPXaqG"
      }
    },
    {
      "cell_type": "code",
      "source": [
        "x = True\n",
        "y = False\n",
        "z = 10 > 3\n",
        "print(x, y, z)"
      ],
      "metadata": {
        "colab": {
          "base_uri": "https://localhost:8080/"
        },
        "id": "dUTPgzb8Xl5a",
        "outputId": "d15aecba-30b1-4e03-c946-72c7cbc1b5c6"
      },
      "execution_count": 83,
      "outputs": [
        {
          "output_type": "stream",
          "name": "stdout",
          "text": [
            "True False True\n"
          ]
        }
      ]
    },
    {
      "cell_type": "code",
      "source": [
        "print(True == 1) # 출력: True\n",
        "print(False == 0) # 출력: True"
      ],
      "metadata": {
        "colab": {
          "base_uri": "https://localhost:8080/"
        },
        "id": "QJLNe5CDXmqp",
        "outputId": "452b365c-1c86-4228-ffc7-f1100e15ab3a"
      },
      "execution_count": 84,
      "outputs": [
        {
          "output_type": "stream",
          "name": "stdout",
          "text": [
            "True\n",
            "True\n"
          ]
        }
      ]
    },
    {
      "cell_type": "code",
      "source": [
        "print(True + True)\n",
        "print(False - True)\n",
        "print(True / True)\n",
        "print(True * False)"
      ],
      "metadata": {
        "colab": {
          "base_uri": "https://localhost:8080/"
        },
        "id": "UOjgxzNZXqJ5",
        "outputId": "f1da2fb0-c15c-4a0b-dccf-87e3ee19db08"
      },
      "execution_count": 86,
      "outputs": [
        {
          "output_type": "stream",
          "name": "stdout",
          "text": [
            "2\n",
            "-1\n",
            "1.0\n",
            "0\n"
          ]
        }
      ]
    },
    {
      "cell_type": "code",
      "source": [
        "print(True / False)"
      ],
      "metadata": {
        "colab": {
          "base_uri": "https://localhost:8080/",
          "height": 184
        },
        "id": "bX7mmettXrvJ",
        "outputId": "4fa52c34-0171-4a43-a24d-c1c240a423a7"
      },
      "execution_count": 87,
      "outputs": [
        {
          "output_type": "error",
          "ename": "ZeroDivisionError",
          "evalue": "ignored",
          "traceback": [
            "\u001b[0;31m---------------------------------------------------------------------------\u001b[0m",
            "\u001b[0;31mZeroDivisionError\u001b[0m                         Traceback (most recent call last)",
            "\u001b[0;32m<ipython-input-87-89a2cd47f04e>\u001b[0m in \u001b[0;36m<cell line: 1>\u001b[0;34m()\u001b[0m\n\u001b[0;32m----> 1\u001b[0;31m \u001b[0mprint\u001b[0m\u001b[0;34m(\u001b[0m\u001b[0;32mTrue\u001b[0m \u001b[0;34m/\u001b[0m \u001b[0;32mFalse\u001b[0m\u001b[0;34m)\u001b[0m\u001b[0;34m\u001b[0m\u001b[0;34m\u001b[0m\u001b[0m\n\u001b[0m",
            "\u001b[0;31mZeroDivisionError\u001b[0m: division by zero"
          ]
        }
      ]
    },
    {
      "cell_type": "code",
      "source": [
        "#\n",
        "x = True\n",
        "dir(x)"
      ],
      "metadata": {
        "colab": {
          "base_uri": "https://localhost:8080/"
        },
        "id": "y7rHL-uOXvzS",
        "outputId": "15e00b5d-2ffc-4682-8096-a81e8cbe5e6b"
      },
      "execution_count": 88,
      "outputs": [
        {
          "output_type": "execute_result",
          "data": {
            "text/plain": [
              "['__abs__',\n",
              " '__add__',\n",
              " '__and__',\n",
              " '__bool__',\n",
              " '__ceil__',\n",
              " '__class__',\n",
              " '__delattr__',\n",
              " '__dir__',\n",
              " '__divmod__',\n",
              " '__doc__',\n",
              " '__eq__',\n",
              " '__float__',\n",
              " '__floor__',\n",
              " '__floordiv__',\n",
              " '__format__',\n",
              " '__ge__',\n",
              " '__getattribute__',\n",
              " '__getnewargs__',\n",
              " '__gt__',\n",
              " '__hash__',\n",
              " '__index__',\n",
              " '__init__',\n",
              " '__init_subclass__',\n",
              " '__int__',\n",
              " '__invert__',\n",
              " '__le__',\n",
              " '__lshift__',\n",
              " '__lt__',\n",
              " '__mod__',\n",
              " '__mul__',\n",
              " '__ne__',\n",
              " '__neg__',\n",
              " '__new__',\n",
              " '__or__',\n",
              " '__pos__',\n",
              " '__pow__',\n",
              " '__radd__',\n",
              " '__rand__',\n",
              " '__rdivmod__',\n",
              " '__reduce__',\n",
              " '__reduce_ex__',\n",
              " '__repr__',\n",
              " '__rfloordiv__',\n",
              " '__rlshift__',\n",
              " '__rmod__',\n",
              " '__rmul__',\n",
              " '__ror__',\n",
              " '__round__',\n",
              " '__rpow__',\n",
              " '__rrshift__',\n",
              " '__rshift__',\n",
              " '__rsub__',\n",
              " '__rtruediv__',\n",
              " '__rxor__',\n",
              " '__setattr__',\n",
              " '__sizeof__',\n",
              " '__str__',\n",
              " '__sub__',\n",
              " '__subclasshook__',\n",
              " '__truediv__',\n",
              " '__trunc__',\n",
              " '__xor__',\n",
              " 'as_integer_ratio',\n",
              " 'bit_count',\n",
              " 'bit_length',\n",
              " 'conjugate',\n",
              " 'denominator',\n",
              " 'from_bytes',\n",
              " 'imag',\n",
              " 'numerator',\n",
              " 'real',\n",
              " 'to_bytes']"
            ]
          },
          "metadata": {},
          "execution_count": 88
        }
      ]
    },
    {
      "cell_type": "markdown",
      "source": [
        "# 6. None 자료형\n",
        "\n",
        "None 자료형은 가질 수 있는 값이 None이 유일합니다."
      ],
      "metadata": {
        "id": "NsH4iAoAYlQG"
      }
    },
    {
      "cell_type": "code",
      "source": [
        "양말상자 = None\n",
        "dir(None)"
      ],
      "metadata": {
        "colab": {
          "base_uri": "https://localhost:8080/"
        },
        "id": "nQPcslB7YvXO",
        "outputId": "72d44f41-7fe3-40a5-9e82-63d3b8df1a1b"
      },
      "execution_count": 89,
      "outputs": [
        {
          "output_type": "execute_result",
          "data": {
            "text/plain": [
              "['__bool__',\n",
              " '__class__',\n",
              " '__delattr__',\n",
              " '__dir__',\n",
              " '__doc__',\n",
              " '__eq__',\n",
              " '__format__',\n",
              " '__ge__',\n",
              " '__getattribute__',\n",
              " '__gt__',\n",
              " '__hash__',\n",
              " '__init__',\n",
              " '__init_subclass__',\n",
              " '__le__',\n",
              " '__lt__',\n",
              " '__ne__',\n",
              " '__new__',\n",
              " '__reduce__',\n",
              " '__reduce_ex__',\n",
              " '__repr__',\n",
              " '__setattr__',\n",
              " '__sizeof__',\n",
              " '__str__',\n",
              " '__subclasshook__']"
            ]
          },
          "metadata": {},
          "execution_count": 89
        }
      ]
    },
    {
      "cell_type": "code",
      "source": [
        "x = None\n",
        "y = None\n",
        "print(id(x), id(y))"
      ],
      "metadata": {
        "colab": {
          "base_uri": "https://localhost:8080/"
        },
        "id": "lKm9RqKRYzhT",
        "outputId": "a826ac83-5b04-4a3b-9ee0-57f4a3f7cc86"
      },
      "execution_count": 90,
      "outputs": [
        {
          "output_type": "stream",
          "name": "stdout",
          "text": [
            "99121024816096 99121024816096\n"
          ]
        }
      ]
    },
    {
      "cell_type": "code",
      "source": [
        "print(양말상자)"
      ],
      "metadata": {
        "colab": {
          "base_uri": "https://localhost:8080/"
        },
        "id": "KIOtfjsAY25O",
        "outputId": "5494684a-99ed-46f1-b86f-60783ab84ee0"
      },
      "execution_count": 91,
      "outputs": [
        {
          "output_type": "stream",
          "name": "stdout",
          "text": [
            "None\n"
          ]
        }
      ]
    },
    {
      "cell_type": "code",
      "source": [
        "None + 5\n",
        "None + None\n",
        "None = 10"
      ],
      "metadata": {
        "colab": {
          "base_uri": "https://localhost:8080/",
          "height": 147
        },
        "id": "EbgbD8IRY87P",
        "outputId": "f9cdbf0d-2182-41b0-cc4b-23f5193cd9c9"
      },
      "execution_count": 92,
      "outputs": [
        {
          "output_type": "error",
          "ename": "SyntaxError",
          "evalue": "ignored",
          "traceback": [
            "\u001b[0;36m  File \u001b[0;32m\"<ipython-input-92-40251f994640>\"\u001b[0;36m, line \u001b[0;32m3\u001b[0m\n\u001b[0;31m    None = 10\u001b[0m\n\u001b[0m    ^\u001b[0m\n\u001b[0;31mSyntaxError\u001b[0m\u001b[0;31m:\u001b[0m cannot assign to None\n"
          ]
        }
      ]
    },
    {
      "cell_type": "code",
      "source": [
        "x = None\n",
        "\n",
        "print(x == None)    # True, 하지만 이 방식은 권장되지 않습니다.\n",
        "print(x is None)    # True, 이 방식을 사용하여 None을 확인하는 것이 좋습니다."
      ],
      "metadata": {
        "colab": {
          "base_uri": "https://localhost:8080/"
        },
        "id": "B4a-2QW9ZBQN",
        "outputId": "0b3552af-c655-4dc2-ed7c-5b4476068c2d"
      },
      "execution_count": 93,
      "outputs": [
        {
          "output_type": "stream",
          "name": "stdout",
          "text": [
            "True\n",
            "True\n"
          ]
        }
      ]
    },
    {
      "cell_type": "code",
      "source": [],
      "metadata": {
        "id": "73AgulCPZHzR"
      },
      "execution_count": null,
      "outputs": []
    }
  ]
}