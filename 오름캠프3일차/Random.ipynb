{
  "nbformat": 4,
  "nbformat_minor": 0,
  "metadata": {
    "colab": {
      "provenance": []
    },
    "kernelspec": {
      "name": "python3",
      "display_name": "Python 3"
    },
    "language_info": {
      "name": "python"
    }
  },
  "cells": [
    {
      "cell_type": "markdown",
      "source": [
        "# 1. Randrange() 함수\n",
        " **`randrange()` 함수의 사용법**\n",
        "\n",
        "```python\n",
        "randrange(start, stop[, step])\n",
        "```\n",
        "\n",
        "- `start`: 범위의 시작값입니다. 이 값은 범위에 포함됩니다. 만약 start가 생략되면, 기본값은 0이 됩니다.\n",
        "- `stop`: 범위의 끝값입니다. 이 값은 범위에 포함되지 않으며, 함수는 stop - 1까지의 수 중에서 무작위로 선택합니다.\n",
        "- `step`: 선택적 매개변수로, 숫자 간의 간격을 지정합니다. 예를 들어, step이 2이면 함수는 두 숫자 간격으로 무작위 수를 선택합니다."
      ],
      "metadata": {
        "id": "ZPlR8U-20MkW"
      }
    },
    {
      "cell_type": "code",
      "source": [
        "# 1. 기본 사용법\n",
        "\n",
        "import random"
      ],
      "metadata": {
        "id": "UF2-rTMT1Dwj"
      },
      "execution_count": 1,
      "outputs": []
    },
    {
      "cell_type": "code",
      "source": [
        "''' 0~9까지의 임의의 숫자를 선택하는 코드를 작성\n",
        "    파이썬의 숫자의 시작은 무조건 0부터\n",
        "    10으로 입력하면 -1 즉, 9까지 출력된다. 0~9\n",
        "'''\n",
        "\n",
        "# randrange 는 int 형으로 인식한다.\n",
        "num = random.randrange(10)\n",
        "print(num)"
      ],
      "metadata": {
        "colab": {
          "base_uri": "https://localhost:8080/"
        },
        "id": "5T43ud3d1LxY",
        "outputId": "aa33b8fe-afd5-42dc-aa27-e1a5c968bbdc"
      },
      "execution_count": 6,
      "outputs": [
        {
          "output_type": "stream",
          "name": "stdout",
          "text": [
            "9\n"
          ]
        }
      ]
    },
    {
      "cell_type": "code",
      "source": [
        "# 1.2 시작값과 끝 값을 지정\n",
        "\n",
        "num_2 = random.randrange(10, 20) # 10~19까지 출력\n",
        "print(num_2)"
      ],
      "metadata": {
        "colab": {
          "base_uri": "https://localhost:8080/"
        },
        "id": "2tvMAGdC14bg",
        "outputId": "64e2cd9e-d403-446b-9da4-1026d892a44a"
      },
      "execution_count": 25,
      "outputs": [
        {
          "output_type": "stream",
          "name": "stdout",
          "text": [
            "15\n"
          ]
        }
      ]
    },
    {
      "cell_type": "code",
      "source": [
        "# 1.3 간격 설정\n",
        "# 10~100까지 숫자 중에서 10의 간격으로 무작위 선택\n",
        "\n",
        "num10_100 = random.randrange(10, 101, 10)\n",
        "print(num10_100)"
      ],
      "metadata": {
        "colab": {
          "base_uri": "https://localhost:8080/"
        },
        "id": "kKjOt_bE2MLU",
        "outputId": "ceb73192-067e-4823-da9b-bdea1b3c0e5f"
      },
      "execution_count": 30,
      "outputs": [
        {
          "output_type": "stream",
          "name": "stdout",
          "text": [
            "100\n"
          ]
        }
      ]
    },
    {
      "cell_type": "markdown",
      "source": [
        "# 2. choice()함수\n",
        "\n",
        "random.choice() 함수는 파이썬의 random 라이브러리에서 제공하는 매우 유용한 함수 중 하나입니다. 이 함수는 주어진 시퀀스(예: 리스트, 튜플, 문자열 등)에서 무작위로 요소 하나를 선택하여 반환합니다. 시퀀스 내의 모든 요소는 선택될 가능성이 동일합니다. random.choice() 함수를 사용하는 여러 가지 측면에 대해 더 자세히 설명하겠습니다."
      ],
      "metadata": {
        "id": "UFCKBa783M6l"
      }
    },
    {
      "cell_type": "code",
      "source": [
        "# 1. Choice 기본 사용법\n",
        "\n",
        "#chosen_element = random.choice(sequence)\n",
        "\n",
        "# 리스트에서 무작위 과일 선택\n",
        "# 다양한 정보를 한번에 받아오는 것 = 리스트\n",
        "elements = ['사과', '바나나', '체리']\n",
        "print(elements)\n",
        "choice_elements = random.choice(elements)\n",
        "print(choice_elements)\n",
        "print(f'선택된 요소 : {choice_elements} 입니다.')"
      ],
      "metadata": {
        "colab": {
          "base_uri": "https://localhost:8080/"
        },
        "id": "c_pIB1-V7iGk",
        "outputId": "ed49b57b-2bc3-41c4-c8bc-3cb14a5ae2b9"
      },
      "execution_count": 38,
      "outputs": [
        {
          "output_type": "stream",
          "name": "stdout",
          "text": [
            "['사과', '바나나', '체리']\n",
            "사과\n",
            "선택된 요소 : 사과 입니다.\n"
          ]
        }
      ]
    },
    {
      "cell_type": "code",
      "source": [
        "# 2. 문자열에서 무작위 선택\n",
        "\n",
        "greeting = \"안녕하세요\"\n",
        "choice_char = random.choice(greeting)\n",
        "print(f\"선택된 문자 : {choice_char} 입니다.\")"
      ],
      "metadata": {
        "colab": {
          "base_uri": "https://localhost:8080/"
        },
        "id": "lN9IBUG68uPj",
        "outputId": "d6cbe307-5a0e-40e3-b407-d693b476dbba"
      },
      "execution_count": 40,
      "outputs": [
        {
          "output_type": "stream",
          "name": "stdout",
          "text": [
            "선택된 문자 : 요 입니다.\n"
          ]
        }
      ]
    },
    {
      "cell_type": "markdown",
      "source": [
        "# 3. 주석활용 복습"
      ],
      "metadata": {
        "id": "aEbFnqen9Mz9"
      }
    },
    {
      "cell_type": "code",
      "source": [
        "# 이 코드는 Random 라이브러리를 사용한 예시입니다.\n",
        "import random\n",
        "\n",
        "# 두 개의 무작의 숫자를 생성하는 코드\n",
        "random_number1 = random.randint(1, 10)  # 1~9 임의의 숫자 한개를 가져옵니다.\n",
        "random_number2 = random.randint(1, 10)  # 1~9 임의의 숫자 한개를 가져옵니다.\n",
        "\n",
        "# 생성된 두 개의 무작의 숫자를 합 계산\n",
        "sum_of_numbers = random_number1 + random_number2\n",
        "\n",
        "\n",
        "print(f\"첫 번째 생성된 숫자: {random_number1}\")\n",
        "print(f\"두 번째 생성된 숫자: {random_number2}\")\n",
        "print(f\"두 숫자의 합: {sum_of_numbers}\")"
      ],
      "metadata": {
        "id": "tMNppDmS_kCt"
      },
      "execution_count": null,
      "outputs": []
    },
    {
      "cell_type": "markdown",
      "source": [
        "## 4. 모두의 마블 주사위 프로그래밍 하기\n",
        "이 실습자료는 파이썬을 사용하여 간단한 주사위 게임을 시뮬레이션하는 방법을 보여줍니다. 여기서는 두 개의 주사위를 던져서 나온 두 수를 합산하는 프로그램을 만들고 있습니다. 이 과정은 기본적인 난수 생성과 변수 할당, 그리고 산술 연산을 포함합니다. 이 프로그램은 파이썬의 기본적인 개념과 **`random`** 라이브러리 사용법을 연습하는 데 도움이 됩니다.\n",
        "\n",
        "### **프로그램 설명**\n",
        "\n",
        "1. **라이브러리 임포트**:\n",
        "    - **`import random`**: 프로그램 상단에서 **`random`** 라이브러리를 임포트합니다. 이 라이브러리는 무작위 수를 생성하는 데 사용됩니다.\n",
        "2. **주사위 던지기**:\n",
        "    - **`dice1 = random.randint(1, 7)`**: 첫 번째 주사위 던지기를 시뮬레이션합니다. **`randint(1, 7)`**는 1부터 6 사이의 숫자 중 하나를 무작위로 선택합니다.\n",
        "    - **`dice2 = random.randint(1, 7)`**: 두 번째 주사위 던지기도 마찬가지로 처리합니다.\n",
        "3. **주사위 합산**:\n",
        "    - **`total = dice1 + dice2`**: 두 주사위의 결과를 합산하여 총합을 구합니다.\n",
        "4. **결과 출력**:\n",
        "    - **`print(f\"주사위 결과: {dice1} + {dice2} = {total}\")`**: 두 주사위의 값과 그 합을 출력합니다."
      ],
      "metadata": {
        "id": "LV-Qpq_lB5gK"
      }
    },
    {
      "cell_type": "code",
      "source": [
        "# 주사위 프로그래밍 하기\n",
        "\n",
        "import random"
      ],
      "metadata": {
        "id": "pm6q7VKhCBrO"
      },
      "execution_count": 43,
      "outputs": []
    },
    {
      "cell_type": "code",
      "source": [
        "# 주사의 무작위 선택\n",
        "# dice1 = random.randint(1, 7)\n",
        "# dice2 = random.randint(1, 7)\n",
        "\n",
        "dice1 = random.randrange(1, 7)\n",
        "dice2 = random.randrange(1, 7)\n",
        "\n",
        "# 주사위 합계\n",
        "total = dice1 + dice2\n",
        "\n",
        "# 주사위 합계 결과 출력\n",
        "print(f\"주사의 결과 : {dice1} + {dice2} = {total}\")\n",
        "print(f\"첫 번째 주사위 값은 : {dice1} \\n두번째 주사위 값은 : {dice2} \\n최종값은 {total} 입니다.\")"
      ],
      "metadata": {
        "colab": {
          "base_uri": "https://localhost:8080/"
        },
        "id": "u86YncUkCPXq",
        "outputId": "68771b42-380f-4647-e742-da1782a69cba"
      },
      "execution_count": 55,
      "outputs": [
        {
          "output_type": "stream",
          "name": "stdout",
          "text": [
            "주사의 결과 : 2 + 1 = 3\n",
            "첫 번째 주사위 값은 : 2 \n",
            "두번째 주사위 값은 : 1 \n",
            "최종값은 3 입니다.\n"
          ]
        }
      ]
    },
    {
      "cell_type": "code",
      "source": [
        "import random\n",
        "\n",
        "# 윷 던지기 결과 (0: 앞, 1: 뒤)\n",
        "throw1 = random.choice([0, 1])\n",
        "throw2 = random.choice([0, 1])\n",
        "throw3 = random.choice([0, 1])\n",
        "throw4 = random.choice([0, 1])\n",
        "\n",
        "print(f\"throw1 값 : {throw1} \\nthrow2 값 : {throw2} \\nthrow3 값 : {throw3} \\nthrow4 값 : {throw4}\")\n",
        "\n",
        "# 뒷면의 총 개수 계산\n",
        "total_back = throw1 + throw2 + throw3 + throw4\n",
        "print(f\"total_back 값 : {total_back}\")\n",
        "\n",
        "# 윷놀이 결과\n",
        "# 뒷면이 없는 경우 (모), 뒷면이 1개인 경우 (도), 2개 (개), 3개 (걸), 모두 뒷면 (윷)\n",
        "results = ['모', '도', '개', '걸', '윷']\n",
        "print(results[total_back])"
      ],
      "metadata": {
        "colab": {
          "base_uri": "https://localhost:8080/"
        },
        "id": "Er8YrJyDCVVI",
        "outputId": "e7f4d699-dd03-47b3-ab98-cad1e817ba14"
      },
      "execution_count": 62,
      "outputs": [
        {
          "output_type": "stream",
          "name": "stdout",
          "text": [
            "throw1 값 : 0 \n",
            "throw2 값 : 1 \n",
            "throw3 값 : 1 \n",
            "throw4 값 : 0\n",
            "total_back 값 : 2\n",
            "개\n"
          ]
        }
      ]
    }
  ]
}