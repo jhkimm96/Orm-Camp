{
  "nbformat": 4,
  "nbformat_minor": 0,
  "metadata": {
    "colab": {
      "provenance": []
    },
    "kernelspec": {
      "name": "python3",
      "display_name": "Python 3"
    },
    "language_info": {
      "name": "python"
    }
  },
  "cells": [
    {
      "cell_type": "markdown",
      "source": [
        "# 2024 새해 계획\n",
        "## 1일 1commit!!!!\n",
        "\n"
      ],
      "metadata": {
        "id": "OXUAzdFrlJXe"
      }
    },
    {
      "cell_type": "markdown",
      "source": [
        "## 1.1 하나의 단어를 입력받아서 출력하기"
      ],
      "metadata": {
        "id": "QoNmQn44uR9g"
      }
    },
    {
      "cell_type": "code",
      "source": [
        "변수(어떠한 값을 입력받을 값) = input(\"내가 입력받을 값에 대한 질문\")"
      ],
      "metadata": {
        "id": "ZbKHIY4AsuA8"
      },
      "execution_count": null,
      "outputs": []
    },
    {
      "cell_type": "code",
      "source": [
        "word_1 = input(\"이번 해에는 주 2회이상 ___ 운동을 하기로 했다.\")"
      ],
      "metadata": {
        "colab": {
          "base_uri": "https://localhost:8080/"
        },
        "id": "pOBz_ZmplgZZ",
        "outputId": "ab5ee2a9-9ae9-4400-87a3-30eb95fcf958"
      },
      "execution_count": 9,
      "outputs": [
        {
          "name": "stdout",
          "output_type": "stream",
          "text": [
            "이번 해에는 주 2회이상 ___ 운동을 하기로 했다.공복 유산소\n"
          ]
        }
      ]
    },
    {
      "cell_type": "code",
      "source": [
        "print(f\"이번 해에는 매일 {word_1} 운동을 하기로 했다. \\n\") # /n 줄바꿈"
      ],
      "metadata": {
        "colab": {
          "base_uri": "https://localhost:8080/"
        },
        "id": "3_oZh1sjmA_K",
        "outputId": "91591b10-c057-482b-d706-17e1d6c7e15d"
      },
      "execution_count": 10,
      "outputs": [
        {
          "output_type": "stream",
          "name": "stdout",
          "text": [
            "이번 해에는 매일 공복 유산소 운동을 하기로 했다. \n",
            "\n"
          ]
        }
      ]
    },
    {
      "cell_type": "code",
      "source": [
        "Minute1 = input(\"아침 교육 전에 ___분 이상 예습을 하겠다.\")"
      ],
      "metadata": {
        "colab": {
          "base_uri": "https://localhost:8080/"
        },
        "id": "IpHSDCjBncJ_",
        "outputId": "fe35360a-bd2d-480d-fad5-6f6c8614b85d"
      },
      "execution_count": 7,
      "outputs": [
        {
          "name": "stdout",
          "output_type": "stream",
          "text": [
            "아침 교육 전에 ___분 이상 예습을 하겠다.20\n"
          ]
        }
      ]
    },
    {
      "cell_type": "code",
      "source": [
        "print(f\"아침 교육 전에 {Minute1}분 이상 예습을 하겠다\")"
      ],
      "metadata": {
        "colab": {
          "base_uri": "https://localhost:8080/"
        },
        "id": "Cu2IeWoNoYKp",
        "outputId": "cff851a5-cda7-4da0-b249-e633bd9deb3d"
      },
      "execution_count": 8,
      "outputs": [
        {
          "output_type": "stream",
          "name": "stdout",
          "text": [
            "아침 교육 전에 20분 이상 예습을 하겠다\n"
          ]
        }
      ]
    },
    {
      "cell_type": "markdown",
      "source": [
        "## 1.2 두가지 값을 입력받기\n"
      ],
      "metadata": {
        "id": "G2ttXvHQuIFy"
      }
    },
    {
      "cell_type": "code",
      "source": [
        "Hour1 = input(\"나는 오름캠프 수업이 끝난 후 복습을 ____시간 이상 복 습 후\")\n",
        "Hour2 = input(\"개인적인 자격증 공부를 ___시간 이상 공부하겠다.\")"
      ],
      "metadata": {
        "colab": {
          "base_uri": "https://localhost:8080/"
        },
        "id": "l0E_WmuqozyZ",
        "outputId": "6f5c1b99-257c-4ad1-a9f0-9a80cf6279b8"
      },
      "execution_count": 13,
      "outputs": [
        {
          "name": "stdout",
          "output_type": "stream",
          "text": [
            "나는 오름캠프 수업이 끝난 후 복습을 ____시간 이상 복 습 후1\n",
            "개인적인 자격증 공부를 ___시간 이상 공부하겠다.2\n"
          ]
        }
      ]
    },
    {
      "cell_type": "code",
      "source": [
        "\n",
        "#  end - 기본 값으로는 개행(\\n)이 들어가 있으며 이를 사용해 개행을 없애거나 원하는 문자를 입력할 수 있습니다.\n",
        "#      - 각각 다른 두문장을 합칠 수 있다.\n",
        "print(f\"나는 오름캠프 수업이 끝난 후 복습을 {Hour1}시간 이상 복습 후\", end = \",\")\n",
        "\n",
        "# sep - 기본 값으로는 공백이 들어가 있으며 이를 사용해 원하는 문자를 입력할 수 있습니다.\n",
        "print(f\"개인적인 자격증 공부를 {Hour2}시간 이상 공부하겠다\",\"~~\", sep = \"!!!\")"
      ],
      "metadata": {
        "colab": {
          "base_uri": "https://localhost:8080/"
        },
        "id": "-scwXzQlpJz7",
        "outputId": "8ae6c576-a52e-456b-bedc-22ac1c59f358"
      },
      "execution_count": 34,
      "outputs": [
        {
          "output_type": "stream",
          "name": "stdout",
          "text": [
            "나는 오름캠프 수업이 끝난 후 복습을 1시간 이상 복습 후,개인적인 자격증 공부를 2시간 이상 공부하겠다!!!~~\n"
          ]
        }
      ]
    },
    {
      "cell_type": "code",
      "source": [
        "word1 = input(\"운동\")\n",
        "word2 = input(\"공부\")"
      ],
      "metadata": {
        "colab": {
          "base_uri": "https://localhost:8080/"
        },
        "id": "D9eBewblvhg1",
        "outputId": "23d7b596-fd63-486a-9004-58b49adb5816"
      },
      "execution_count": 28,
      "outputs": [
        {
          "name": "stdout",
          "output_type": "stream",
          "text": [
            "운동공복유산소\n",
            "공부자격증공부\n"
          ]
        }
      ]
    },
    {
      "cell_type": "code",
      "source": [
        "# 한문장안에 Hour1, Hour2 둘 다 출력하기\n",
        "print(f\"올해는 {word1}와 {word2}에 집중하려고 한다.\")"
      ],
      "metadata": {
        "id": "2yKXxvz-vXXl"
      },
      "execution_count": null,
      "outputs": []
    },
    {
      "cell_type": "markdown",
      "source": [
        "## 2.1 두 가지 단어를 한꺼번에 받기"
      ],
      "metadata": {
        "id": "q0Fi55dIwv3w"
      }
    },
    {
      "cell_type": "code",
      "source": [
        "sentence_2 = input(\"올해는 ___과 ___에 집중하려고 한다: \") # 공백을 기준으로 값을 여러개 받을 수 있다."
      ],
      "metadata": {
        "colab": {
          "base_uri": "https://localhost:8080/"
        },
        "id": "thrbcouzxAIB",
        "outputId": "73585e74-d9e8-4a9d-fdea-2c6132dcfcb6"
      },
      "execution_count": 37,
      "outputs": [
        {
          "name": "stdout",
          "output_type": "stream",
          "text": [
            "올해는 ___과 ___에 집중하려고 한다: 자격증 운동\n"
          ]
        }
      ]
    },
    {
      "cell_type": "code",
      "source": [
        "print(sentence_2)"
      ],
      "metadata": {
        "colab": {
          "base_uri": "https://localhost:8080/"
        },
        "id": "dR1uOPyMxQUA",
        "outputId": "8e56dcba-9541-48c1-badb-43deb8caa24e"
      },
      "execution_count": 38,
      "outputs": [
        {
          "output_type": "stream",
          "name": "stdout",
          "text": [
            "자격증 운동\n"
          ]
        }
      ]
    },
    {
      "cell_type": "code",
      "source": [
        "word_1, word_2 = sentence_2.split() # 두 단어를 입력받고, (필수) 공백을 기준으로 분리"
      ],
      "metadata": {
        "id": "xVImvfbHwzJ8"
      },
      "execution_count": null,
      "outputs": []
    },
    {
      "cell_type": "code",
      "source": [
        "print(word_1)"
      ],
      "metadata": {
        "colab": {
          "base_uri": "https://localhost:8080/"
        },
        "id": "qYDtXot0xyfI",
        "outputId": "2fa98150-ac7f-4a4d-864e-d8c6528273bf"
      },
      "execution_count": 40,
      "outputs": [
        {
          "output_type": "stream",
          "name": "stdout",
          "text": [
            "자격증\n"
          ]
        }
      ]
    },
    {
      "cell_type": "code",
      "source": [
        "print(word_2)"
      ],
      "metadata": {
        "colab": {
          "base_uri": "https://localhost:8080/"
        },
        "id": "o0jJwgwNx2Ue",
        "outputId": "2da75bc9-5bef-4e6b-bf75-67bfb320d159"
      },
      "execution_count": 41,
      "outputs": [
        {
          "output_type": "stream",
          "name": "stdout",
          "text": [
            "운동\n"
          ]
        }
      ]
    },
    {
      "cell_type": "code",
      "source": [
        "print(f\"올해는 {word_1}과 {word_2}에 집중하려고 한다.\")"
      ],
      "metadata": {
        "colab": {
          "base_uri": "https://localhost:8080/"
        },
        "id": "lzemJbvUx-Tp",
        "outputId": "d378d086-1409-439c-9a96-6e1b8cc639a6"
      },
      "execution_count": 46,
      "outputs": [
        {
          "output_type": "stream",
          "name": "stdout",
          "text": [
            "올해는 자격증과 운동에 집중하려고 한다.\n"
          ]
        }
      ]
    }
  ]
}