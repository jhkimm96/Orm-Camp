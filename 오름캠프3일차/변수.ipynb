{
  "nbformat": 4,
  "nbformat_minor": 0,
  "metadata": {
    "colab": {
      "provenance": []
    },
    "kernelspec": {
      "name": "python3",
      "display_name": "Python 3"
    },
    "language_info": {
      "name": "python"
    }
  },
  "cells": [
    {
      "cell_type": "markdown",
      "source": [
        "# 1. 변수"
      ],
      "metadata": {
        "id": "DyZPknf42m-Q"
      }
    },
    {
      "cell_type": "code",
      "source": [
        "# 변수의 속성확인\n",
        "\n",
        "x = 10\n",
        "print(type(x))  # 변수의 타입확인\n",
        "print(dir(x))   # 변수타입의 기능확인\n",
        "\n",
        "# 변수의 타입\n",
        "\n",
        "x = 10\n",
        "print(type(x))\n",
        "\n",
        "x = \"Jun\"\n",
        "print(type(x))"
      ],
      "metadata": {
        "id": "tEM7bYmKMoYV",
        "colab": {
          "base_uri": "https://localhost:8080/"
        },
        "outputId": "02f8ddec-1832-49ac-b26e-bb6684066bb7"
      },
      "execution_count": 1,
      "outputs": [
        {
          "output_type": "stream",
          "name": "stdout",
          "text": [
            "<class 'int'>\n",
            "['__abs__', '__add__', '__and__', '__bool__', '__ceil__', '__class__', '__delattr__', '__dir__', '__divmod__', '__doc__', '__eq__', '__float__', '__floor__', '__floordiv__', '__format__', '__ge__', '__getattribute__', '__getnewargs__', '__gt__', '__hash__', '__index__', '__init__', '__init_subclass__', '__int__', '__invert__', '__le__', '__lshift__', '__lt__', '__mod__', '__mul__', '__ne__', '__neg__', '__new__', '__or__', '__pos__', '__pow__', '__radd__', '__rand__', '__rdivmod__', '__reduce__', '__reduce_ex__', '__repr__', '__rfloordiv__', '__rlshift__', '__rmod__', '__rmul__', '__ror__', '__round__', '__rpow__', '__rrshift__', '__rshift__', '__rsub__', '__rtruediv__', '__rxor__', '__setattr__', '__sizeof__', '__str__', '__sub__', '__subclasshook__', '__truediv__', '__trunc__', '__xor__', 'as_integer_ratio', 'bit_count', 'bit_length', 'conjugate', 'denominator', 'from_bytes', 'imag', 'numerator', 'real', 'to_bytes']\n",
            "<class 'int'>\n",
            "<class 'str'>\n"
          ]
        }
      ]
    },
    {
      "cell_type": "code",
      "source": [
        "# 변수 재할당\n",
        "\n",
        "x = 10\n",
        "print(x)\n",
        "\n",
        "x = 20\n",
        "print(x)"
      ],
      "metadata": {
        "colab": {
          "base_uri": "https://localhost:8080/"
        },
        "id": "j8765Dkon49v",
        "outputId": "d74e90ff-311f-474a-dd77-2438ea81e9cc"
      },
      "execution_count": null,
      "outputs": [
        {
          "output_type": "stream",
          "name": "stdout",
          "text": [
            "10\n",
            "20\n"
          ]
        }
      ]
    },
    {
      "cell_type": "code",
      "source": [
        "# 변수삭제\n",
        "\n",
        "x = 10\n",
        "print(x)"
      ],
      "metadata": {
        "colab": {
          "base_uri": "https://localhost:8080/"
        },
        "id": "VyxgFJhYn-XI",
        "outputId": "16347ff6-a836-4c01-cea4-73042cb5a3e8"
      },
      "execution_count": null,
      "outputs": [
        {
          "output_type": "stream",
          "name": "stdout",
          "text": [
            "10\n"
          ]
        }
      ]
    },
    {
      "cell_type": "code",
      "source": [
        "del x"
      ],
      "metadata": {
        "id": "FBgnMkw-oX91"
      },
      "execution_count": null,
      "outputs": []
    },
    {
      "cell_type": "code",
      "source": [
        "print(x)"
      ],
      "metadata": {
        "colab": {
          "base_uri": "https://localhost:8080/",
          "height": 184
        },
        "id": "K8ITBd_eob08",
        "outputId": "fba083a2-9475-41b3-fb07-2e99f2c83ef8"
      },
      "execution_count": null,
      "outputs": [
        {
          "output_type": "error",
          "ename": "NameError",
          "evalue": "ignored",
          "traceback": [
            "\u001b[0;31m---------------------------------------------------------------------------\u001b[0m",
            "\u001b[0;31mNameError\u001b[0m                                 Traceback (most recent call last)",
            "\u001b[0;32m<ipython-input-5-fc17d851ef81>\u001b[0m in \u001b[0;36m<cell line: 1>\u001b[0;34m()\u001b[0m\n\u001b[0;32m----> 1\u001b[0;31m \u001b[0mprint\u001b[0m\u001b[0;34m(\u001b[0m\u001b[0mx\u001b[0m\u001b[0;34m)\u001b[0m\u001b[0;34m\u001b[0m\u001b[0;34m\u001b[0m\u001b[0m\n\u001b[0m",
            "\u001b[0;31mNameError\u001b[0m: name 'x' is not defined"
          ]
        }
      ]
    },
    {
      "cell_type": "markdown",
      "source": [
        "# 2. 변수의 여러가지 타입\n",
        "- 숫자형: 숫자를 다룹니다.\n",
        "    - 정수형(int): 양수와 0, 음수를 저장할 수 있습니다. 1 5 100 0 -30 -45\n",
        "    - 실수형(float): 소숫점을 표현할 수 있습니다. 1.5 5.6 100.23 0.0 -30.53245\n",
        "    - 복소수형(complex): 실수부와 허수부로 나누어 수를 표현할 수 있습니다.\n",
        "- 논리 자료형(bool) : 논리 자료형 True, False을 다룹니다.\n",
        "- 시퀀스: 순서가 있는 자료형입니다.\n",
        "    - 문자열 자료형(str): 문자열을 저장합니다.\n",
        "    - 리스트 자료형(list): 다른 자료형을 담을 수 있는 변경 가능한 자료형입니다.\n",
        "    - 튜플 자료형(tuple): 다른 자료형을 담을 수 있는 변경 불가능한 자료형입니다.\n",
        "- 컬렉션 혹은 컨테이너 자료형: 다른 자료형을 담을 수 있는 자료형입니다.\n",
        "    - 리스트 자료형(list): 다른 자료형을 담을 수 있는 변경 가능한 자료형입니다.\n",
        "    - 튜플 자료형(tuple): 다른 자료형을 담을 수 있는 변경 불가능한 자료형입니다.\n",
        "    - 사전 자료형 또는 딕셔너리 자료형(dict): key와 value의 쌍으로 묶여 있는 key의 중복을 허락하지 않는 자료형입니다.\n",
        "    - 집합 자료형 또는 셋 자료형(set): 값에 중복을 허락하지 않는 자료형입니다.\n",
        "- None 자료형: None, 아무것도 없음을 명시하는 자료형입니다.\n"
      ],
      "metadata": {
        "id": "owA1IB5U32fZ"
      }
    }
  ]
}