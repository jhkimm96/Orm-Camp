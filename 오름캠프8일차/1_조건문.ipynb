{
  "nbformat": 4,
  "nbformat_minor": 0,
  "metadata": {
    "colab": {
      "provenance": []
    },
    "kernelspec": {
      "name": "python3",
      "display_name": "Python 3"
    },
    "language_info": {
      "name": "python"
    }
  },
  "cells": [
    {
      "cell_type": "markdown",
      "source": [
        "# 1. 조건문\n",
        "\n",
        "## 1.1 if문의 기본 구조"
      ],
      "metadata": {
        "id": "QYE51f4wkXW4"
      }
    },
    {
      "cell_type": "code",
      "source": [
        "# if 다음에 조건이 참인 경우에만 코드블록이 실행된다.\n",
        "\n",
        "# x = 2 일때\n",
        "# x = 1 일때\n",
        "# x = 0 일때\n",
        "\n",
        "x = 2 # 비교할 대상\n",
        "\n",
        "if x > 1: # 비교식이 참일 경우에 하단의 print('True')가 실행된다.\n",
        "    print('True')"
      ],
      "metadata": {
        "colab": {
          "base_uri": "https://localhost:8080/"
        },
        "id": "VklNzBV9pLrJ",
        "outputId": "76dd6377-f352-4d38-a420-d17d0a66ba31"
      },
      "execution_count": 1,
      "outputs": [
        {
          "output_type": "stream",
          "name": "stdout",
          "text": [
            "True\n"
          ]
        }
      ]
    },
    {
      "cell_type": "code",
      "source": [
        "# 결국 x = 2 일때 if x > 1 은 ==> True\n",
        "\n",
        "if True:\n",
        "    print('True') # 출력: True"
      ],
      "metadata": {
        "colab": {
          "base_uri": "https://localhost:8080/"
        },
        "id": "P9YvYzOepkvI",
        "outputId": "91317450-11a6-40b5-94c7-b0f7b96c8e4b"
      },
      "execution_count": 2,
      "outputs": [
        {
          "output_type": "stream",
          "name": "stdout",
          "text": [
            "True\n"
          ]
        }
      ]
    },
    {
      "cell_type": "markdown",
      "source": [
        "## 1.2 참과 거짓으로 평가"
      ],
      "metadata": {
        "id": "TcJWqfVsqKuB"
      }
    },
    {
      "cell_type": "code",
      "source": [
        "if 1:\n",
        "    print('hello')"
      ],
      "metadata": {
        "colab": {
          "base_uri": "https://localhost:8080/"
        },
        "id": "IRlg2fmvqWgi",
        "outputId": "5a616e7c-3d09-4cb3-f29a-d63dd2073022"
      },
      "execution_count": 3,
      "outputs": [
        {
          "output_type": "stream",
          "name": "stdout",
          "text": [
            "hello\n"
          ]
        }
      ]
    },
    {
      "cell_type": "code",
      "source": [
        "# 0이 아닌 모든 정수형은 True로 인식\n",
        "\n",
        "if -1:\n",
        "    print('hello')\n",
        "\n",
        "print('end')"
      ],
      "metadata": {
        "colab": {
          "base_uri": "https://localhost:8080/"
        },
        "id": "uekJZtvQqceT",
        "outputId": "bf74f3a2-0f4b-4fde-825a-435feb58f980"
      },
      "execution_count": 7,
      "outputs": [
        {
          "output_type": "stream",
          "name": "stdout",
          "text": [
            "hello\n",
            "end\n"
          ]
        }
      ]
    },
    {
      "cell_type": "code",
      "source": [
        "#공백은 기본적으로 ‘False’를 의미\n",
        "\n",
        "# 공백이 있는 문자열\n",
        "if ' ':\n",
        "    print('hello')\n",
        "print('end')"
      ],
      "metadata": {
        "colab": {
          "base_uri": "https://localhost:8080/"
        },
        "id": "1x0z5UKiranl",
        "outputId": "fe258596-0ced-4e87-8ace-bdbb6ac19a35"
      },
      "execution_count": 9,
      "outputs": [
        {
          "output_type": "stream",
          "name": "stdout",
          "text": [
            "hello\n",
            "end\n"
          ]
        }
      ]
    },
    {
      "cell_type": "code",
      "source": [
        "# 공백이 없는 문자열\n",
        "if '':\n",
        "    print('hello')\n",
        "print('end')"
      ],
      "metadata": {
        "colab": {
          "base_uri": "https://localhost:8080/"
        },
        "id": "DJAA5F-ermoz",
        "outputId": "86d6f71f-da20-4494-9b2e-4b3bf67c48f5"
      },
      "execution_count": 10,
      "outputs": [
        {
          "output_type": "stream",
          "name": "stdout",
          "text": [
            "end\n"
          ]
        }
      ]
    },
    {
      "cell_type": "code",
      "source": [
        "if not '':\n",
        "    print('hello')\n",
        "print('end\\n')\n",
        "\n",
        "if None: # None은 False로 처리됩니다.\n",
        "    print('hello')\n",
        "print('end\\n')\n",
        "\n",
        "if not None:\n",
        "    print('hello')\n",
        "print('end\\n')"
      ],
      "metadata": {
        "colab": {
          "base_uri": "https://localhost:8080/"
        },
        "id": "rrlzYKEFruNT",
        "outputId": "5f65e55f-aef4-46ef-b4be-d98f18f6657d"
      },
      "execution_count": 12,
      "outputs": [
        {
          "output_type": "stream",
          "name": "stdout",
          "text": [
            "hello\n",
            "end\n",
            "\n",
            "end\n",
            "\n",
            "hello\n",
            "end\n",
            "\n"
          ]
        }
      ]
    },
    {
      "cell_type": "markdown",
      "source": [
        "# 2 나아가기\n",
        "\n",
        "- 비교 연산자: **`==`**, **`!=`**, **`<`**, **`<=`**, **`>`**, **`>=`**\n",
        "- 논리 연산자: **`and`**, **`or`**, **`not`**\n",
        "- 멤버십 연산자: **`in`**, **`not in`**\n",
        "- 식별 연산자: **`is`**, **`is not`**\n",
        "- 다른 함수의 반환 값이나 변수의 값 (이 값들이 결국 불리언으로 평가됨)"
      ],
      "metadata": {
        "id": "sKRrReIXsC3O"
      }
    },
    {
      "cell_type": "markdown",
      "source": [
        "## 2.1 if 문의 코드 블록에 들어갈 수 있는 것\n",
        "\n",
        "if문의 코드 블록에는 어떤 파이썬 문장도 올 수 있습니다."
      ],
      "metadata": {
        "id": "W89vlDBrw0dV"
      }
    },
    {
      "cell_type": "code",
      "source": [
        "def f():\n",
        "    return True\n",
        "\n",
        "if f() or f():\n",
        "    print('hello')"
      ],
      "metadata": {
        "colab": {
          "base_uri": "https://localhost:8080/"
        },
        "id": "ETJHUuTNxBuw",
        "outputId": "5392ef67-4e2c-4583-eda3-9ccffd5abf1d"
      },
      "execution_count": 17,
      "outputs": [
        {
          "output_type": "stream",
          "name": "stdout",
          "text": [
            "hello\n"
          ]
        }
      ]
    },
    {
      "cell_type": "markdown",
      "source": [
        "## 2.2 단축평가"
      ],
      "metadata": {
        "id": "on6nA08txsUc"
      }
    },
    {
      "cell_type": "code",
      "source": [
        "# 성능에 영향을 끼칩니다!\n",
        "def f():\n",
        "    return True # True 가 무조건 반환되는 함수\n",
        "\n",
        "def ff():\n",
        "    x = 100 / 0 # error\n",
        "    return 'hello' # 실행되지 않았으면 하는 함수\n",
        "\n",
        "if f() or ff():\n",
        "    print('hello') # 출력: hello\n",
        "\n",
        "# 이미 단락 평가에서 f() or에서 뒤에 어떠한 값이 오던 True인 상태이기 때문에 뒤에 있는 ff()를 실행하지 않은 것"
      ],
      "metadata": {
        "colab": {
          "base_uri": "https://localhost:8080/"
        },
        "id": "FsiW_8MwxwgV",
        "outputId": "7a7c9d19-42e0-44c5-a3ea-d99e8e53d1d6"
      },
      "execution_count": 19,
      "outputs": [
        {
          "output_type": "stream",
          "name": "stdout",
          "text": [
            "hello\n"
          ]
        }
      ]
    },
    {
      "cell_type": "markdown",
      "source": [
        "## 2.3 삼항 연산자\n",
        "\n",
        "* 연산자는 X if 조건 else Y와 같은 형태로 사용"
      ],
      "metadata": {
        "id": "HmPjsCPLxyCx"
      }
    },
    {
      "cell_type": "code",
      "source": [
        "x = 5\n",
        "y = 10\n",
        "result = 'x가 더 큽니다' if x > y else 'y와 같거나 y가 더 큽니다.'\n",
        "print(result) # 출력: 'y와 같거나 y가 더 큽니다.'"
      ],
      "metadata": {
        "colab": {
          "base_uri": "https://localhost:8080/"
        },
        "id": "qHjCgkTzy5aW",
        "outputId": "e72e304b-41a1-4d8f-d401-233a44eea853"
      },
      "execution_count": 20,
      "outputs": [
        {
          "output_type": "stream",
          "name": "stdout",
          "text": [
            "y와 같거나 y가 더 큽니다.\n"
          ]
        }
      ]
    },
    {
      "cell_type": "code",
      "source": [
        "# 간단 표현식\n",
        "def f(x, y):\n",
        "    return x if x > y else y\n",
        "\n",
        "f(5, 10)"
      ],
      "metadata": {
        "colab": {
          "base_uri": "https://localhost:8080/"
        },
        "id": "PnKiX5Aby7Nq",
        "outputId": "9f2577f2-89cf-474a-ddcc-ead913dd2153"
      },
      "execution_count": 24,
      "outputs": [
        {
          "output_type": "execute_result",
          "data": {
            "text/plain": [
              "10"
            ]
          },
          "metadata": {},
          "execution_count": 24
        }
      ]
    },
    {
      "cell_type": "code",
      "source": [
        "[i for i in range(10) if i % 2 == 0] # [0, 2, 4, 6, 8]\n",
        "[i if i % 2 == 0 else None for i in range(10)] # [0, None, 2, None, 4, None, 6, None, 8, None]"
      ],
      "metadata": {
        "colab": {
          "base_uri": "https://localhost:8080/"
        },
        "id": "Kw4PCbNIzHgI",
        "outputId": "bd0ee015-7755-42e9-eb34-501ae7ec777c"
      },
      "execution_count": 22,
      "outputs": [
        {
          "output_type": "execute_result",
          "data": {
            "text/plain": [
              "[0, None, 2, None, 4, None, 6, None, 8, None]"
            ]
          },
          "metadata": {},
          "execution_count": 22
        }
      ]
    },
    {
      "cell_type": "markdown",
      "source": [
        "## 2.4 조건문과 람다 함수"
      ],
      "metadata": {
        "id": "jkt_RpNKzMtw"
      }
    },
    {
      "cell_type": "code",
      "source": [
        "my_function = lambda x: 'Even' if x % 2 == 0 else 'Odd'"
      ],
      "metadata": {
        "id": "Vz3eE5FZz9yp"
      },
      "execution_count": 25,
      "outputs": []
    },
    {
      "cell_type": "markdown",
      "source": [
        "## 2.6 조건문과 딕셔너리"
      ],
      "metadata": {
        "id": "ZqrcFkrnz_fq"
      }
    },
    {
      "cell_type": "code",
      "source": [
        "my_dict = {x: 'Even' if x % 2 == 0 else 'Odd' for x in range(10)}"
      ],
      "metadata": {
        "id": "88KNImWD0FaA"
      },
      "execution_count": 26,
      "outputs": []
    }
  ]
}