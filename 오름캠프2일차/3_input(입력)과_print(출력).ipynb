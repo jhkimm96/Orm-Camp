{
  "nbformat": 4,
  "nbformat_minor": 0,
  "metadata": {
    "colab": {
      "provenance": []
    },
    "kernelspec": {
      "name": "python3",
      "display_name": "Python 3"
    },
    "language_info": {
      "name": "python"
    }
  },
  "cells": [
    {
      "cell_type": "markdown",
      "source": [
        "\n",
        "# 입력과 출력\n",
        "# 1. 입력함수\n",
        "## 1.1 input 실습 -1"
      ],
      "metadata": {
        "id": "vl1hovV9Luls"
      }
    },
    {
      "cell_type": "code",
      "source": [
        "input('입력해주세요') #이상한값이 나올수 있다.\n",
        "int(input('입력해주세요'))"
      ],
      "metadata": {
        "colab": {
          "base_uri": "https://localhost:8080/"
        },
        "id": "tC64mwkQMAG4",
        "outputId": "7fd6cbcc-b4b2-4e2d-dc39-ba298ec82d66"
      },
      "execution_count": 1,
      "outputs": [
        {
          "name": "stdout",
          "output_type": "stream",
          "text": [
            "입력해주세요20\n",
            "입력해주세요10\n"
          ]
        },
        {
          "output_type": "execute_result",
          "data": {
            "text/plain": [
              "10"
            ]
          },
          "metadata": {},
          "execution_count": 1
        }
      ]
    },
    {
      "cell_type": "markdown",
      "source": [
        "## 1.2 input 실습 -2\n",
        "\n",
        "input으로 받은 값을 변수에 할당"
      ],
      "metadata": {
        "id": "yotaX12_MclH"
      }
    },
    {
      "cell_type": "code",
      "source": [
        "name = input(\"이름을 입력해주세요\")\n",
        "print(\"Hello, \" + name + \"!\")"
      ],
      "metadata": {
        "colab": {
          "base_uri": "https://localhost:8080/"
        },
        "id": "zyu0uWDcMgD1",
        "outputId": "5945da62-4630-4efe-a39c-b6a646bc4ce6"
      },
      "execution_count": 2,
      "outputs": [
        {
          "output_type": "stream",
          "name": "stdout",
          "text": [
            "이름을 입력해주세요김지희\n",
            "Hello, 김지희!\n"
          ]
        }
      ]
    },
    {
      "cell_type": "code",
      "source": [
        "#input 을 활용한 덧셈 = 문자열인 경우 -> 입력값이 이상하게 나온다.\n",
        "a = input(\"첫번쨰 숫자를 입력해주세요\")\n",
        "b = input(\"두번쨰 숫자를 입력해주세요\")\n",
        "\n",
        "print(\"a + b =\", a+b , \"입니다.\")"
      ],
      "metadata": {
        "colab": {
          "base_uri": "https://localhost:8080/"
        },
        "id": "jJQddBd8M1uX",
        "outputId": "b99b7bf0-c2b2-4e58-b3aa-6c2beeb9ee05"
      },
      "execution_count": 3,
      "outputs": [
        {
          "output_type": "stream",
          "name": "stdout",
          "text": [
            "첫번쨰 숫자를 입력해주세요3\n",
            "두번쨰 숫자를 입력해주세요5\n",
            "a + b = 35 입니다.\n"
          ]
        }
      ]
    },
    {
      "cell_type": "code",
      "source": [
        "#input 을 활용한 덧셈 = 문자열인 경우 -> int로 숫자형을 입력해주면 입력값이 제대로 나온다.\n",
        "a = int(input(\"첫번쨰 숫자를 입력해주세요\"))\n",
        "b = int(input(\"두번쨰 숫자를 입력해주세요\"))\n",
        "\n",
        "print(\"a + b =\", a+b , \"입니다.\")"
      ],
      "metadata": {
        "colab": {
          "base_uri": "https://localhost:8080/"
        },
        "id": "003jQKOYNXuK",
        "outputId": "8937f8da-430b-4816-befc-c888dee26a7a"
      },
      "execution_count": 7,
      "outputs": [
        {
          "output_type": "stream",
          "name": "stdout",
          "text": [
            "첫번쨰 숫자를 입력해주세요3\n",
            "두번쨰 숫자를 입력해주세요5\n",
            "a + b = 8 입니다.\n"
          ]
        }
      ]
    },
    {
      "cell_type": "markdown",
      "source": [
        "## 2.출력함수\n",
        "# 2.1 print 실습 -1"
      ],
      "metadata": {
        "id": "31NPDGmiNrMx"
      }
    },
    {
      "cell_type": "code",
      "source": [
        "# 한 줄 출력\n",
        "print('출력합니다.')"
      ],
      "metadata": {
        "id": "NlfGzKcuOSZ2"
      },
      "execution_count": null,
      "outputs": []
    },
    {
      "cell_type": "markdown",
      "source": [
        "## 2.2 print 실습 -2"
      ],
      "metadata": {
        "id": "xvwitzuKPA5E"
      }
    },
    {
      "cell_type": "code",
      "source": [
        "# 여러줄 출력\n",
        "'출력합니다.'\n",
        "'출력합니다.'"
      ],
      "metadata": {
        "colab": {
          "base_uri": "https://localhost:8080/",
          "height": 35
        },
        "id": "tGsraKUpPGMB",
        "outputId": "a0ac0ab1-41e4-4b4c-c537-bc876beb21b4"
      },
      "execution_count": 9,
      "outputs": [
        {
          "output_type": "execute_result",
          "data": {
            "text/plain": [
              "'출력합니다.'"
            ],
            "application/vnd.google.colaboratory.intrinsic+json": {
              "type": "string"
            }
          },
          "metadata": {},
          "execution_count": 9
        }
      ]
    },
    {
      "cell_type": "code",
      "source": [
        "# 여러값 출력\n",
        "print(\"hello\", \"world\",\"1\")"
      ],
      "metadata": {
        "colab": {
          "base_uri": "https://localhost:8080/"
        },
        "id": "btfiBYFsPnyl",
        "outputId": "7acfab1c-c6f3-4956-c5e6-be344c45953d"
      },
      "execution_count": 10,
      "outputs": [
        {
          "output_type": "stream",
          "name": "stdout",
          "text": [
            "hello world 1\n"
          ]
        }
      ]
    },
    {
      "cell_type": "code",
      "source": [
        "# sep 구분자\n",
        "print(\"hello\",\"world\",\"!\",sep = \"-\")"
      ],
      "metadata": {
        "colab": {
          "base_uri": "https://localhost:8080/"
        },
        "id": "ppne4LSePvX-",
        "outputId": "6e8e69bd-bc7e-40f7-a1cf-1961729fe607"
      },
      "execution_count": 11,
      "outputs": [
        {
          "output_type": "stream",
          "name": "stdout",
          "text": [
            "hello-world-!\n"
          ]
        }
      ]
    },
    {
      "cell_type": "code",
      "source": [
        "# sep 구분자 / end 구분자\n",
        "print(\"hello\", \"world\", \"!\", sep = \"-\", end = \"!!!\")"
      ],
      "metadata": {
        "colab": {
          "base_uri": "https://localhost:8080/"
        },
        "id": "ReICvzGxP7gf",
        "outputId": "bcf7884f-cf68-4178-c105-91db8359cb0a"
      },
      "execution_count": 12,
      "outputs": [
        {
          "output_type": "stream",
          "name": "stdout",
          "text": [
            "hello-world-!!!!"
          ]
        }
      ]
    },
    {
      "cell_type": "markdown",
      "source": [
        "# 3. f-string\n",
        "## 3.1 f-string 실습\n"
      ],
      "metadata": {
        "id": "aU1V6yRrQH7b"
      }
    },
    {
      "cell_type": "code",
      "source": [
        "# 3.1 예시\n",
        "name = 'licat'\n",
        "age = 10\n",
        "print(f'제 이름은 {name}, 제 나이는 {age} 입니다.')"
      ],
      "metadata": {
        "colab": {
          "base_uri": "https://localhost:8080/"
        },
        "id": "DnWNXcGyR2G2",
        "outputId": "38cfd935-f43b-4911-a51b-46832b990063"
      },
      "execution_count": 13,
      "outputs": [
        {
          "output_type": "stream",
          "name": "stdout",
          "text": [
            "제 이름은 licat, 제 나이는 10 입니다.\n"
          ]
        }
      ]
    },
    {
      "cell_type": "code",
      "source": [
        "# 3.2 예시\n",
        "name = input(\"이름을 입력해주세요\")\n",
        "age = int(input(\"나이를 입력해주세요\"))\n",
        "\n",
        "print(f'제 이름은 {name}, 제 나이는 {age} 입니다.')"
      ],
      "metadata": {
        "colab": {
          "base_uri": "https://localhost:8080/"
        },
        "id": "O8LjhTlvR9Im",
        "outputId": "a2350100-056c-483e-cc97-4ca80cf2a829"
      },
      "execution_count": 14,
      "outputs": [
        {
          "output_type": "stream",
          "name": "stdout",
          "text": [
            "이름을 입력해주세요김지희\n",
            "나이를 입력해주세요28\n",
            "제 이름은 김지희, 제 나이는 28 입니다.\n"
          ]
        }
      ]
    },
    {
      "cell_type": "code",
      "source": [
        "# 4. None\n",
        "a = None\n"
      ],
      "metadata": {
        "id": "n1Bem-60SRBO"
      },
      "execution_count": 15,
      "outputs": []
    },
    {
      "cell_type": "code",
      "source": [
        "print(a)"
      ],
      "metadata": {
        "colab": {
          "base_uri": "https://localhost:8080/"
        },
        "id": "nWWveYNpUNaA",
        "outputId": "3ca627ad-f47c-4ad3-c176-8f4f219c8ed4"
      },
      "execution_count": 16,
      "outputs": [
        {
          "output_type": "stream",
          "name": "stdout",
          "text": [
            "None\n"
          ]
        }
      ]
    },
    {
      "cell_type": "code",
      "source": [],
      "metadata": {
        "id": "7U7t2R2VUPiu"
      },
      "execution_count": null,
      "outputs": []
    }
  ]
}