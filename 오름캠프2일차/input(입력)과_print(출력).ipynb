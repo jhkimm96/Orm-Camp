{
  "cells": [
    {
      "cell_type": "markdown",
      "metadata": {
        "id": "vl1hovV9Luls"
      },
      "source": [
        "\n",
        "# 입력과 출력\n",
        "# 1. 입력함수\n",
        "## 1.1 input 실습 -1"
      ]
    },
    {
      "cell_type": "code",
      "execution_count": 1,
      "metadata": {
        "colab": {
          "base_uri": "https://localhost:8080/"
        },
        "id": "tC64mwkQMAG4",
        "outputId": "7fd6cbcc-b4b2-4e2d-dc39-ba298ec82d66"
      },
      "outputs": [
        {
          "name": "stdout",
          "output_type": "stream",
          "text": [
            "입력해주세요20\n",
            "입력해주세요10\n"
          ]
        },
        {
          "data": {
            "text/plain": [
              "10"
            ]
          },
          "execution_count": 1,
          "metadata": {},
          "output_type": "execute_result"
        }
      ],
      "source": [
        "input('입력해주세요') #이상한값이 나올수 있다!\n",
        "int(input('입력해주세요'))"
      ]
    },
    {
      "cell_type": "markdown",
      "metadata": {
        "id": "yotaX12_MclH"
      },
      "source": [
        "## 1.2 input 실습 -2\n",
        "\n",
        "input으로 받은 값을 변수에 할당"
      ]
    },
    {
      "cell_type": "code",
      "execution_count": 2,
      "metadata": {
        "colab": {
          "base_uri": "https://localhost:8080/"
        },
        "id": "zyu0uWDcMgD1",
        "outputId": "5945da62-4630-4efe-a39c-b6a646bc4ce6"
      },
      "outputs": [
        {
          "name": "stdout",
          "output_type": "stream",
          "text": [
            "이름을 입력해주세요김지희\n",
            "Hello, 김지희!\n"
          ]
        }
      ],
      "source": [
        "name = input(\"이름을 입력해주세요\")\n",
        "print(\"Hello, \" + name + \"!\")"
      ]
    },
    {
      "cell_type": "code",
      "execution_count": 3,
      "metadata": {
        "colab": {
          "base_uri": "https://localhost:8080/"
        },
        "id": "jJQddBd8M1uX",
        "outputId": "b99b7bf0-c2b2-4e58-b3aa-6c2beeb9ee05"
      },
      "outputs": [
        {
          "name": "stdout",
          "output_type": "stream",
          "text": [
            "첫번쨰 숫자를 입력해주세요3\n",
            "두번쨰 숫자를 입력해주세요5\n",
            "a + b = 35 입니다.\n"
          ]
        }
      ],
      "source": [
        "#input 을 활용한 덧셈 = 문자열인 경우 -> 입력값이 이상하게 나온다.\n",
        "a = input(\"첫번쨰 숫자를 입력해주세요\")\n",
        "b = input(\"두번쨰 숫자를 입력해주세요\")\n",
        "\n",
        "print(\"a + b =\", a+b , \"입니다.\")"
      ]
    },
    {
      "cell_type": "code",
      "execution_count": 7,
      "metadata": {
        "colab": {
          "base_uri": "https://localhost:8080/"
        },
        "id": "003jQKOYNXuK",
        "outputId": "8937f8da-430b-4816-befc-c888dee26a7a"
      },
      "outputs": [
        {
          "name": "stdout",
          "output_type": "stream",
          "text": [
            "첫번쨰 숫자를 입력해주세요3\n",
            "두번쨰 숫자를 입력해주세요5\n",
            "a + b = 8 입니다.\n"
          ]
        }
      ],
      "source": [
        "#input 을 활용한 덧셈 = 문자열인 경우 -> int로 숫자형을 입력해주면 입력값이 제대로 나온다.\n",
        "a = int(input(\"첫번쨰 숫자를 입력해주세요\"))\n",
        "b = int(input(\"두번쨰 숫자를 입력해주세요\"))\n",
        "\n",
        "print(\"a + b =\", a+b , \"입니다.\")"
      ]
    },
    {
      "cell_type": "markdown",
      "metadata": {
        "id": "31NPDGmiNrMx"
      },
      "source": [
        "## 2.출력함수\n",
        "# 2.1 print 실습 -1"
      ]
    },
    {
      "cell_type": "code",
      "execution_count": null,
      "metadata": {
        "id": "NlfGzKcuOSZ2"
      },
      "outputs": [],
      "source": [
        "# 한 줄 출력\n",
        "print('출력합니다.')"
      ]
    },
    {
      "cell_type": "markdown",
      "metadata": {
        "id": "xvwitzuKPA5E"
      },
      "source": [
        "## 2.2 print 실습 -2"
      ]
    },
    {
      "cell_type": "code",
      "execution_count": 9,
      "metadata": {
        "colab": {
          "base_uri": "https://localhost:8080/",
          "height": 35
        },
        "id": "tGsraKUpPGMB",
        "outputId": "a0ac0ab1-41e4-4b4c-c537-bc876beb21b4"
      },
      "outputs": [
        {
          "data": {
            "application/vnd.google.colaboratory.intrinsic+json": {
              "type": "string"
            },
            "text/plain": [
              "'출력합니다.'"
            ]
          },
          "execution_count": 9,
          "metadata": {},
          "output_type": "execute_result"
        }
      ],
      "source": [
        "# 여러줄 출력\n",
        "'출력합니다.'\n",
        "'출력합니다.'"
      ]
    },
    {
      "cell_type": "code",
      "execution_count": 10,
      "metadata": {
        "colab": {
          "base_uri": "https://localhost:8080/"
        },
        "id": "btfiBYFsPnyl",
        "outputId": "7acfab1c-c6f3-4956-c5e6-be344c45953d"
      },
      "outputs": [
        {
          "name": "stdout",
          "output_type": "stream",
          "text": [
            "hello world 1\n"
          ]
        }
      ],
      "source": [
        "# 여러값 출력\n",
        "print(\"hello\", \"world\",\"1\")"
      ]
    },
    {
      "cell_type": "code",
      "execution_count": 11,
      "metadata": {
        "colab": {
          "base_uri": "https://localhost:8080/"
        },
        "id": "ppne4LSePvX-",
        "outputId": "6e8e69bd-bc7e-40f7-a1cf-1961729fe607"
      },
      "outputs": [
        {
          "name": "stdout",
          "output_type": "stream",
          "text": [
            "hello-world-!\n"
          ]
        }
      ],
      "source": [
        "# sep 구분자\n",
        "print(\"hello\",\"world\",\"!\",sep = \"-\")"
      ]
    },
    {
      "cell_type": "code",
      "execution_count": 12,
      "metadata": {
        "colab": {
          "base_uri": "https://localhost:8080/"
        },
        "id": "ReICvzGxP7gf",
        "outputId": "bcf7884f-cf68-4178-c105-91db8359cb0a"
      },
      "outputs": [
        {
          "name": "stdout",
          "output_type": "stream",
          "text": [
            "hello-world-!!!!"
          ]
        }
      ],
      "source": [
        "# sep 구분자 / end 구분자\n",
        "print(\"hello\", \"world\", \"!\", sep = \"-\", end = \"!!!\")"
      ]
    },
    {
      "cell_type": "code",
      "execution_count": null,
      "metadata": {
        "id": "aU1V6yRrQH7b"
      },
      "outputs": [],
      "source": []
    }
  ],
  "metadata": {
    "colab": {
      "provenance": []
    },
    "kernelspec": {
      "display_name": "Python 3",
      "name": "python3"
    },
    "language_info": {
      "name": "python"
    }
  },
  "nbformat": 4,
  "nbformat_minor": 0
}
