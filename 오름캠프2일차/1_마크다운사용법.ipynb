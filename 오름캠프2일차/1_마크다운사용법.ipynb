{
  "cells": [
    {
      "cell_type": "markdown",
      "metadata": {
        "colab_type": "text",
        "id": "view-in-github"
      },
      "source": [
        "<a href=\"https://colab.research.google.com/github/jhkimm96/Orm-Camp/blob/main/%EC%98%A4%EB%A6%84%EC%BA%A0%ED%94%84_2%EC%9D%BC%EC%B0%A8.ipynb\" target=\"_parent\"><img src=\"https://colab.research.google.com/assets/colab-badge.svg\" alt=\"Open In Colab\"/></a>"
      ]
    },
    {
      "cell_type": "code",
      "execution_count": 2,
      "metadata": {
        "colab": {
          "base_uri": "https://localhost:8080/"
        },
        "id": "hjghWCRD8kGr",
        "outputId": "c03f964a-7904-4bad-d9aa-019faa7e5999"
      },
      "outputs": [
        {
          "name": "stdout",
          "output_type": "stream",
          "text": [
            "Hello world\n"
          ]
        }
      ],
      "source": [
        "print(\"Hello world\")"
      ]
    },
    {
      "cell_type": "markdown",
      "metadata": {
        "id": "J9L3XPOm9jry"
      },
      "source": [
        "# 1. 구글 코랩 기초 사용법\n",
        "#맥북은 cmd 윈도우는 ctrl !\n",
        "\n",
        "1. (필수) Ctrl(Command) + Enter : 해당 셀 실행\n",
        "2. (필수) Alt(Option) + Enter : 해당 셀 실행 + 코드 블록 하단 추가\n",
        "3. Ctrl + M A : 코드 셀 위에 삽입\n",
        "4. Ctrl + M B : 코드 셀 아래에 삽입\n",
        "5. Ctrl + M D : 셀 지우기\n",
        "6. Ctrl + M Y : 코드 셀로 변경\n",
        "7. Ctrl + M M : 마크다운 셀로로 변경\n",
        "8. Crtl + M Z : 실행 취소\n",
        "9. Shift + Enter : 다음셀로 이동"
      ]
    },
    {
      "cell_type": "code",
      "execution_count": 4,
      "metadata": {
        "colab": {
          "base_uri": "https://localhost:8080/"
        },
        "id": "Y_rwBgN--VYn",
        "outputId": "78459b40-fd95-4168-e1d4-248947caa847"
      },
      "outputs": [
        {
          "name": "stdout",
          "output_type": "stream",
          "text": [
            "Hello\n"
          ]
        }
      ],
      "source": [
        "print(\"Hello\")"
      ]
    },
    {
      "cell_type": "markdown",
      "metadata": {
        "id": "7glLoXDH-09q"
      },
      "source": [
        "print(\"Hello World\")"
      ]
    },
    {
      "cell_type": "markdown",
      "metadata": {
        "id": "xgWB5ct6Cyzc"
      },
      "source": [
        "#수정 관련된 단축키\n",
        "1. Ctrl(Command) + Alt(Option) + 화살표위아래 : 동시 수정\n",
        "자주 쓰는 예시 필요\n",
        "2. (자주) Ctrl(Command) + D : 같은 단어 찾아 동시 수정\n",
        "3. Ctrl(Command) + Shift + L : 동일 단어를 전체로 찾아 동시 수정\n",
        "4. Alt(Option) + Shift + 화살표위아래 : 해당내용을 위나 아래 복사해서 붙여넣기\n",
        "5. Alt(Option) + 화살표위아래 : 해당 내용을 위나 아래로 보내기\n",
        "6. (자주) Ctrl(Command) + Alt(Option) + 화살표위아래 : 위아래 동시 수정\n",
        "7. (자주) Home, End : 문장의 양 끝\n",
        "8. (필수) Ctrl + / : 주석\n",
        "9. (필수) Shift(cmd) + Del : 한 줄 지우기\n",
        "10. (필수) Tab, Ctrl + ] : 들여쓰기\n",
        "11. (필수) Shift + Tab, Ctrl + [ : 내어쓰기"
      ]
    },
    {
      "cell_type": "code",
      "execution_count": null,
      "metadata": {
        "id": "2YcpahUABR9Y"
      },
      "outputs": [],
      "source": [
        "# 데이터셋 불러오기\n",
        "import pandas as pd\n",
        "data = pd.read_csv(\"example_dataset.csv\")\n",
        "\n",
        "# 각 컬럼에 대한 평균 계산\n",
        "mean_age = data['age'].mean()\n",
        "mean_height = data['height'].mean()\n",
        "mean_weight = data['weight'].mean()\n",
        "\n",
        "print(\"Average Age:\", mean_age)\n",
        "print(\"Average Height:\", mean_height)\n",
        "print(\"Average Weight:\", mean_weight)"
      ]
    },
    {
      "cell_type": "markdown",
      "metadata": {
        "id": "V-v_Oq7yJtGV"
      },
      "source": [
        "#4. 마크다운\n",
        "## 4.1 헤더\n",
        "### 4.1.1 사용법\n",
        "\n",
        "제목을 입력하는기능\n",
        "\n",
        "## 4.2 강조\n",
        "강조\n",
        "이 내용은 **강조** 해야하는 *문장*입니다.\n",
        "*강조*\n",
        "**강조**\n",
        "\n",
        "##4.3 목록(Lists)\n",
        "\n",
        "1. 순서 1번\n",
        "2. 순서 2번\n",
        "3. 순서 3번\n",
        "\n",
        "* 순서 없는 것 1\n",
        "* 순서 없는 것 2\n",
        "* 순서 없는 것 3\n"
      ]
    },
    {
      "cell_type": "markdown",
      "metadata": {
        "id": "auCxnFMxLgMx"
      },
      "source": [
        "# 5.링크\n",
        "\n",
        "* 사용법 : [텍스트] (URL) 형식을 사용하여 하이퍼링크를 삽입합니다.\n",
        "* [Pyalgo](https://paullabworkspace.notion.site/Python-c20c452099dc46f4895019df86cb317b)"
      ]
    },
    {
      "cell_type": "markdown",
      "metadata": {
        "id": "OoCdp8yMMSCS"
      },
      "source": [
        "# 6.이미지\n",
        "\n",
        "* 사용법 : ![대체텍스트](이미지 URL) 형식을 사용하여 이미지를 삽입합니다.\n",
        "* ![토끼](https://www.google.com/search?q=%EC%9D%B4%EB%AF%B8%EC%A7%80&sca_esv=594335904&tbm=isch&sxsrf=AM9HkKnjFXoH27DCjHL_O3E83oW_OWaqKg:1703813486926&source=lnms&sa=X&ved=2ahUKEwiq9prtv7ODAxV8aPUHHUadDqgQ_AUoAXoECAIQAw&biw=948&bih=943&dpr=1#imgrc=P1V_c4eLnIFaLM)"
      ]
    },
    {
      "cell_type": "markdown",
      "metadata": {
        "id": "xSVGb05FM6US"
      },
      "source": [
        "# 7.코드\n",
        "\n",
        "- **인라인 코드** : ` 를 사용하여 텍스트 내에 코드를 삽입합니다.\n",
        "- 코드 블록: 여러 줄의 코드를 나타낼 때는 ``````를 사용하여 코드 블록을 생성합니다.\n",
        "\n",
        "`print(\"Hello World\")`\n",
        " -> print(\"Hello World\")\n",
        "\n",
        "'print(\"Hello World\")'"
      ]
    },
    {
      "cell_type": "markdown",
      "metadata": {
        "id": "obbSWdWMOPNu"
      },
      "source": [
        "# 8. 기타\n",
        "\n",
        "* 취소선 ~~취소선~~\n",
        "* 인용문\n",
        "> 인용문 1입니다.\n",
        ">> 인용문 1-1입니다.\n",
        "---\n",
        "* 구분선\n",
        "---"
      ]
    },
    {
      "cell_type": "code",
      "execution_count": null,
      "metadata": {
        "id": "jwgY3ThTPGQd"
      },
      "outputs": [],
      "source": []
    }
  ],
  "metadata": {
    "colab": {
      "authorship_tag": "ABX9TyNAfYu9HCJaHoCncaYjYlPW",
      "include_colab_link": true,
      "provenance": []
    },
    "kernelspec": {
      "display_name": "Python 3",
      "name": "python3"
    },
    "language_info": {
      "name": "python"
    }
  },
  "nbformat": 4,
  "nbformat_minor": 0
}
