{
  "cells": [
    {
      "cell_type": "markdown",
      "metadata": {
        "colab_type": "text",
        "id": "view-in-github"
      },
      "source": [
        "<a href=\"https://colab.research.google.com/github/jhkimm96/Orm-Camp/blob/main/%EC%98%A4%EB%A6%84%EC%BA%A0%ED%94%84_2%EC%9D%BC%EC%B0%A8_%EC%A3%BC%EC%84%9D.ipynb\" target=\"_parent\"><img src=\"https://colab.research.google.com/assets/colab-badge.svg\" alt=\"Open In Colab\"/></a>"
      ]
    },
    {
      "cell_type": "markdown",
      "metadata": {
        "id": "2ixvUR9PCnez"
      },
      "source": [
        "# 1.주석\n",
        "\n",
        "## 1.1 한줄주석\n",
        "\n",
        "한줄 주석은 # 기호로 시작합니다. 이 기호 뒤에 따라오는 텍스트는 모두 주석으로 처리됩니다. 아래처럼 입력하고 Alt+ Enter 를 입력하도록 하겠습니다.!\n",
        "\n"
      ]
    },
    {
      "cell_type": "code",
      "execution_count": 1,
      "metadata": {
        "colab": {
          "base_uri": "https://localhost:8080/"
        },
        "id": "_qtkmfEeEAmC",
        "outputId": "3b87b4d5-a938-4cdb-b8b2-38ed6d54388d"
      },
      "outputs": [
        {
          "name": "stdout",
          "output_type": "stream",
          "text": [
            "Hello, World 1!\n",
            "Hello, World 2!\n"
          ]
        }
      ],
      "source": [
        "# 이것은 주석입니다.\n",
        "print('Hello, World 1!') # 이것도 주석입니다. (설명은 위한 주석일뿐), 코드에러, 향후수정, 임시주석\n",
        "print('Hello, World 2!')"
      ]
    },
    {
      "cell_type": "markdown",
      "metadata": {
        "id": "Gw1qpMZPEy1s"
      },
      "source": [
        "## 1.2 여러줄주석\n",
        "\n",
        "이번에는 여러 줄 주석을 사용하겠습니다. '''는 여러 줄 주석에 사용합니다.\n",
        "여기서 주의해야 할 점이 '''는 앞뒤로 감싸주어야 합니다.\n",
        "Alt + Enter 사용해서 실행\n"
      ]
    },
    {
      "cell_type": "code",
      "execution_count": 4,
      "metadata": {
        "colab": {
          "base_uri": "https://localhost:8080/"
        },
        "id": "woC1Ow6tFDcp",
        "outputId": "c512f219-d4b3-409d-f248-9c8da5e19396"
      },
      "outputs": [
        {
          "name": "stdout",
          "output_type": "stream",
          "text": [
            "Real Hello World\n",
            "Real Hello World2\n"
          ]
        }
      ],
      "source": [
        "'''\n",
        "print('Hello World1!')\n",
        "print('Hello World2!')\n",
        "print('Hello World3!')\n",
        "'''\n",
        "print('Real Hello World')\n",
        "\n",
        "\"\"\"\n",
        "print('Hello World1!')\n",
        "print('Hello World2!')\n",
        "print('Hello World3!')\n",
        "\"\"\"\n",
        "print('Real Hello World2')"
      ]
    },
    {
      "cell_type": "code",
      "execution_count": null,
      "metadata": {
        "id": "dEQ16rNyG6ZG"
      },
      "outputs": [],
      "source": []
    }
  ],
  "metadata": {
    "colab": {
      "authorship_tag": "ABX9TyNxHQmq/qNujBNSm7JK4CPM",
      "include_colab_link": true,
      "provenance": []
    },
    "kernelspec": {
      "display_name": "Python 3",
      "name": "python3"
    },
    "language_info": {
      "name": "python"
    }
  },
  "nbformat": 4,
  "nbformat_minor": 0
}
